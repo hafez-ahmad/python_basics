{
  "nbformat": 4,
  "nbformat_minor": 0,
  "metadata": {
    "colab": {
      "name": "OOP_Python.ipynb",
      "version": "0.3.2",
      "provenance": []
    },
    "kernelspec": {
      "display_name": "Python 2",
      "language": "python",
      "name": "python2"
    }
  },
  "cells": [
    {
      "metadata": {
        "id": "yI7_e0EzbWYj",
        "colab_type": "code",
        "colab": {}
      },
      "cell_type": "code",
      "source": [
        "class Dog:\n",
        "    sp='mammal'\n",
        "    def __init__(self,name,age):\n",
        "        self.name=name\n",
        "        self.age=age\n",
        "    def des(self):\n",
        "        return \"{} is {} years old \".format(self.name,self.age)"
      ],
      "execution_count": 0,
      "outputs": []
    },
    {
      "metadata": {
        "id": "FtEuGIX1bWY0",
        "colab_type": "code",
        "colab": {}
      },
      "cell_type": "code",
      "source": [
        "mik=Dog('mike',8)"
      ],
      "execution_count": 0,
      "outputs": []
    },
    {
      "metadata": {
        "id": "yfEgwpQkbWZA",
        "colab_type": "code",
        "colab": {},
        "outputId": "a1ad4194-3338-4447-e0e4-9dada449a8c8"
      },
      "cell_type": "code",
      "source": [
        "print(mik.des())"
      ],
      "execution_count": 0,
      "outputs": [
        {
          "output_type": "stream",
          "text": [
            "mike is 8 years old \n"
          ],
          "name": "stdout"
        }
      ]
    },
    {
      "metadata": {
        "id": "p2UgJx7qbWZV",
        "colab_type": "code",
        "colab": {}
      },
      "cell_type": "code",
      "source": [
        "class User(object):\n",
        "    count=0\n",
        "    def __init__(self,name,age):\n",
        "        self.name=name\n",
        "        self.age=age\n",
        "        User.count=User.count+1\n",
        "    @staticmethod\n",
        "    def sayhell():\n",
        "        print(\"ello\")\n",
        "    @classmethod\n",
        "    def get_count(cls):\n",
        "        return cls.count"
      ],
      "execution_count": 0,
      "outputs": []
    },
    {
      "metadata": {
        "id": "124uU5GGbWZg",
        "colab_type": "code",
        "colab": {},
        "outputId": "46ee2d01-0331-4809-8f40-3254b36dc519"
      },
      "cell_type": "code",
      "source": [
        "u1=User(name=\"has\",age=34)\n",
        "u2=User(name=\"hasdd\",age=345)\n",
        "print(u1.name)\n",
        "print(u1.age)\n",
        "print(u2.age)\n",
        "print (u2.get_count())"
      ],
      "execution_count": 0,
      "outputs": [
        {
          "output_type": "stream",
          "text": [
            "has\n",
            "34\n",
            "345\n",
            "12\n"
          ],
          "name": "stdout"
        }
      ]
    },
    {
      "metadata": {
        "id": "mTgmgdCQbWZw",
        "colab_type": "code",
        "colab": {},
        "outputId": "6faca20c-ee77-49a8-e72a-510e57f39e0d"
      },
      "cell_type": "code",
      "source": [
        "type(u)"
      ],
      "execution_count": 0,
      "outputs": [
        {
          "output_type": "execute_result",
          "data": {
            "text/plain": [
              "__main__.User"
            ]
          },
          "metadata": {
            "tags": []
          },
          "execution_count": 100
        }
      ]
    },
    {
      "metadata": {
        "id": "gjwXBsffbWaA",
        "colab_type": "code",
        "colab": {}
      },
      "cell_type": "code",
      "source": [
        "d={\"hafez\":13,\"jha\" :34}"
      ],
      "execution_count": 0,
      "outputs": []
    },
    {
      "metadata": {
        "id": "zpVe9aSIbWaL",
        "colab_type": "code",
        "colab": {},
        "outputId": "231244c5-f7f7-4a02-dc49-3e090e2d22b5"
      },
      "cell_type": "code",
      "source": [
        "d.items()"
      ],
      "execution_count": 0,
      "outputs": [
        {
          "output_type": "execute_result",
          "data": {
            "text/plain": [
              "[('jha', 34), ('hafez', 13)]"
            ]
          },
          "metadata": {
            "tags": []
          },
          "execution_count": 111
        }
      ]
    },
    {
      "metadata": {
        "id": "3YipsGo1bWac",
        "colab_type": "code",
        "colab": {},
        "outputId": "80c4f623-6e23-4146-e4b1-cef991279596"
      },
      "cell_type": "code",
      "source": [
        "for name, number in d.items():\n",
        "    print(name+ '\\n' +'love'+ str(number))"
      ],
      "execution_count": 0,
      "outputs": [
        {
          "output_type": "stream",
          "text": [
            "jha\n",
            "love34\n",
            "hafez\n",
            "love13\n"
          ],
          "name": "stdout"
        }
      ]
    },
    {
      "metadata": {
        "id": "G-tz5SOSbWaq",
        "colab_type": "code",
        "colab": {},
        "outputId": "72605389-395f-4e40-8a9d-24720619423f"
      },
      "cell_type": "code",
      "source": [
        "d.keys()"
      ],
      "execution_count": 0,
      "outputs": [
        {
          "output_type": "execute_result",
          "data": {
            "text/plain": [
              "['jha', 'hafez']"
            ]
          },
          "metadata": {
            "tags": []
          },
          "execution_count": 114
        }
      ]
    },
    {
      "metadata": {
        "id": "nFlnXmq3bWa5",
        "colab_type": "code",
        "colab": {},
        "outputId": "8277e692-e5b4-45b3-a257-76e0400bb252"
      },
      "cell_type": "code",
      "source": [
        "d.values()"
      ],
      "execution_count": 0,
      "outputs": [
        {
          "output_type": "execute_result",
          "data": {
            "text/plain": [
              "[34, 13]"
            ]
          },
          "metadata": {
            "tags": []
          },
          "execution_count": 115
        }
      ]
    },
    {
      "metadata": {
        "id": "Xm5NwalybWbL",
        "colab_type": "code",
        "colab": {},
        "outputId": "be18b476-e836-429c-d61d-f2d3957ccae3"
      },
      "cell_type": "code",
      "source": [
        "for n,x in d.items():\n",
        "    print (n + str(x))"
      ],
      "execution_count": 0,
      "outputs": [
        {
          "output_type": "stream",
          "text": [
            "jha34\n",
            "hafez13\n"
          ],
          "name": "stdout"
        }
      ]
    },
    {
      "metadata": {
        "id": "cQEov_ozbWbY",
        "colab_type": "code",
        "colab": {},
        "outputId": "0a8bda19-3770-40d1-ad37-f0de52005915"
      },
      "cell_type": "code",
      "source": [
        "for number in d.values():\n",
        "    print(str(number) + 'is my number')"
      ],
      "execution_count": 0,
      "outputs": [
        {
          "output_type": "stream",
          "text": [
            "34is my number\n",
            "13is my number\n"
          ],
          "name": "stdout"
        }
      ]
    },
    {
      "metadata": {
        "id": "BPK3jDxibWbl",
        "colab_type": "code",
        "colab": {}
      },
      "cell_type": "code",
      "source": [
        "def ok(a,c,d,f):\n",
        "    e=a+d+c+f\n",
        "    print(e)"
      ],
      "execution_count": 0,
      "outputs": []
    },
    {
      "metadata": {
        "id": "ARPlDUQybWbx",
        "colab_type": "code",
        "colab": {},
        "outputId": "aeb261d1-8efb-40df-b50d-ee009db21489"
      },
      "cell_type": "code",
      "source": [
        "ok(1,3,1,1)"
      ],
      "execution_count": 0,
      "outputs": [
        {
          "output_type": "stream",
          "text": [
            "6\n"
          ],
          "name": "stdout"
        }
      ]
    },
    {
      "metadata": {
        "id": "QC76K6IpbWcC",
        "colab_type": "code",
        "colab": {},
        "outputId": "1251db39-8a56-4098-c9cd-40ed840c13a8"
      },
      "cell_type": "code",
      "source": [
        "def jk(*argv):\n",
        "    a=argv*3\n",
        "    print (a)\n",
        "jk(1,2)"
      ],
      "execution_count": 0,
      "outputs": [
        {
          "output_type": "stream",
          "text": [
            "(1, 2, 1, 2, 1, 2)\n"
          ],
          "name": "stdout"
        }
      ]
    },
    {
      "metadata": {
        "id": "WQzoHv3QbWcQ",
        "colab_type": "code",
        "colab": {}
      },
      "cell_type": "code",
      "source": [
        "def kj(**kwrgs):\n",
        "    print(' outpu wil be dict',kwrgs)"
      ],
      "execution_count": 0,
      "outputs": []
    },
    {
      "metadata": {
        "id": "oxT99P1obWca",
        "colab_type": "code",
        "colab": {},
        "outputId": "e4ac0da1-513a-4375-f2b3-4dbac3f61fb7"
      },
      "cell_type": "code",
      "source": [
        "kj(name='hafez',id=12)"
      ],
      "execution_count": 0,
      "outputs": [
        {
          "output_type": "stream",
          "text": [
            "(' outpu wil be dict', {'name': 'hafez', 'id': 12})\n"
          ],
          "name": "stdout"
        }
      ]
    },
    {
      "metadata": {
        "id": "p7Zh7yq_bWco",
        "colab_type": "code",
        "colab": {},
        "outputId": "3dc2e2b8-c870-4a56-b6a7-3b6e9f995860"
      },
      "cell_type": "code",
      "source": [
        "class Ass:\n",
        "    pass\n",
        "c=Ass()\n",
        "print(c)"
      ],
      "execution_count": 0,
      "outputs": [
        {
          "output_type": "stream",
          "text": [
            "<__main__.Ass instance at 0x0313EEE0>\n"
          ],
          "name": "stdout"
        }
      ]
    },
    {
      "metadata": {
        "id": "_aYjXsarbWc5",
        "colab_type": "code",
        "colab": {},
        "outputId": "e78a5364-b25e-40d7-bb1c-820419ed10e1"
      },
      "cell_type": "code",
      "source": [
        "type(c)"
      ],
      "execution_count": 0,
      "outputs": [
        {
          "output_type": "execute_result",
          "data": {
            "text/plain": [
              "instance"
            ]
          },
          "metadata": {
            "tags": []
          },
          "execution_count": 2
        }
      ]
    },
    {
      "metadata": {
        "id": "Qf3hApsSbWdE",
        "colab_type": "code",
        "colab": {}
      },
      "cell_type": "code",
      "source": [
        "class Foe:\n",
        "    def __init__(self,num,typ,cap):\n",
        "        self.num=num\n",
        "        self.typ=typ\n",
        "        self.cap=cap"
      ],
      "execution_count": 0,
      "outputs": []
    },
    {
      "metadata": {
        "id": "eSVUEi1AbWdS",
        "colab_type": "code",
        "colab": {}
      },
      "cell_type": "code",
      "source": [
        "tmo=Foe(12,\"yy\",\"jbjb\")"
      ],
      "execution_count": 0,
      "outputs": []
    },
    {
      "metadata": {
        "id": "tH3gP9i8bWda",
        "colab_type": "code",
        "colab": {},
        "outputId": "eb4143e6-8f88-4de1-f50a-c7f317b1bec2"
      },
      "cell_type": "code",
      "source": [
        "tmo.cap"
      ],
      "execution_count": 0,
      "outputs": [
        {
          "output_type": "execute_result",
          "data": {
            "text/plain": [
              "'jbjb'"
            ]
          },
          "metadata": {
            "tags": []
          },
          "execution_count": 9
        }
      ]
    },
    {
      "metadata": {
        "id": "AVnna9kQbWdm",
        "colab_type": "code",
        "colab": {}
      },
      "cell_type": "code",
      "source": [
        "class Emp:\n",
        "    empC=0\n",
        "    def __init__(self, name, salary):\n",
        "        self.name=name\n",
        "        self.salary=salary\n",
        "        Emp.empC +=1"
      ],
      "execution_count": 0,
      "outputs": []
    },
    {
      "metadata": {
        "id": "Xwzvsm4SbWdw",
        "colab_type": "code",
        "colab": {}
      },
      "cell_type": "code",
      "source": [
        "def display(self):\n",
        "    print('total employee %d' %Emp.empC )\n",
        "    \n",
        "def dispemp(self):\n",
        "    print (\"name: \" ,self.name,\",salary: \", self.salary)"
      ],
      "execution_count": 0,
      "outputs": []
    },
    {
      "metadata": {
        "id": "6lTZ-5vQbWd5",
        "colab_type": "code",
        "colab": {}
      },
      "cell_type": "code",
      "source": [
        "e1=Emp(\"hafez\",10200)\n",
        "e2=Emp(\"hafez1\",12000)\n",
        "e3=Emp(\"fez\",1002)"
      ],
      "execution_count": 0,
      "outputs": []
    },
    {
      "metadata": {
        "id": "mQZmnLxEbWeE",
        "colab_type": "code",
        "colab": {},
        "outputId": "4ca0ff6d-72e2-416a-ff50-b16c245a8e3b"
      },
      "cell_type": "code",
      "source": [
        "e2.salary"
      ],
      "execution_count": 0,
      "outputs": [
        {
          "output_type": "execute_result",
          "data": {
            "text/plain": [
              "12000"
            ]
          },
          "metadata": {
            "tags": []
          },
          "execution_count": 30
        }
      ]
    },
    {
      "metadata": {
        "id": "c1ms57ZGbWeP",
        "colab_type": "code",
        "colab": {}
      },
      "cell_type": "code",
      "source": [
        "age=12\n",
        "n=\"hafez\""
      ],
      "execution_count": 0,
      "outputs": []
    },
    {
      "metadata": {
        "id": "PhHVdtOybWec",
        "colab_type": "code",
        "colab": {},
        "outputId": "e8f8d693-9315-4823-d2cf-f0ce9d5642d4"
      },
      "cell_type": "code",
      "source": [
        "print(\"he is {j} student and age is{a}\".format(j=n,a=age))\n"
      ],
      "execution_count": 0,
      "outputs": [
        {
          "output_type": "stream",
          "text": [
            "he is hafez student and age is12\n"
          ],
          "name": "stdout"
        }
      ]
    },
    {
      "metadata": {
        "id": "_9asqgM1bWeo",
        "colab_type": "code",
        "colab": {},
        "outputId": "b59e7953-aa16-4cd8-919f-fccd62a9f893"
      },
      "cell_type": "code",
      "source": [
        "n[2:]"
      ],
      "execution_count": 0,
      "outputs": [
        {
          "output_type": "execute_result",
          "data": {
            "text/plain": [
              "'fez'"
            ]
          },
          "metadata": {
            "tags": []
          },
          "execution_count": 13
        }
      ]
    },
    {
      "metadata": {
        "id": "WKkD_4jhbWe0",
        "colab_type": "code",
        "colab": {}
      },
      "cell_type": "code",
      "source": [
        "class Vehicle:\n",
        "    pass"
      ],
      "execution_count": 0,
      "outputs": []
    },
    {
      "metadata": {
        "id": "BysKV8wCbWfA",
        "colab_type": "code",
        "colab": {},
        "outputId": "faaaf9c0-8079-452e-e49a-27d82381d056"
      },
      "cell_type": "code",
      "source": [
        "car=Vehicle()\n",
        "print  (car)"
      ],
      "execution_count": 0,
      "outputs": [
        {
          "output_type": "stream",
          "text": [
            "<__main__.Vehicle instance at 0x0369AA08>\n"
          ],
          "name": "stdout"
        }
      ]
    },
    {
      "metadata": {
        "id": "LLVzSpdlbWfQ",
        "colab_type": "code",
        "colab": {}
      },
      "cell_type": "code",
      "source": [
        "class Vehicle:\n",
        "    def __init__(self,number_of_wheel,type_of_wheel,capacity,velocity):\n",
        "        self.number_of_wheel=number_of_wheel\n",
        "        self.type_of_wheel=type_of_wheel\n",
        "        self.capacity=capacity\n",
        "        self.velocity=velocity\n",
        "    def make_noise(self):\n",
        "        print('vrummm')"
      ],
      "execution_count": 0,
      "outputs": []
    },
    {
      "metadata": {
        "id": "ULbhr1X2bWfY",
        "colab_type": "code",
        "colab": {},
        "outputId": "946606cb-b2ed-4031-efe8-5657c3d61d68"
      },
      "cell_type": "code",
      "source": [
        "test_model=Vehicle(4,\"electric\",5,300)\n",
        "test_model"
      ],
      "execution_count": 0,
      "outputs": [
        {
          "output_type": "execute_result",
          "data": {
            "text/plain": [
              "<__main__.Vehicle instance at 0x029BD5F8>"
            ]
          },
          "metadata": {
            "tags": []
          },
          "execution_count": 5
        }
      ]
    },
    {
      "metadata": {
        "id": "24HdvQlYbWfj",
        "colab_type": "code",
        "colab": {},
        "outputId": "1d37f585-0171-4270-8a13-c5ea5c5b6a61"
      },
      "cell_type": "code",
      "source": [
        "test_model.make_noise()"
      ],
      "execution_count": 0,
      "outputs": [
        {
          "output_type": "stream",
          "text": [
            "vrummm\n"
          ],
          "name": "stdout"
        }
      ]
    },
    {
      "metadata": {
        "id": "B0Ro5EHjbWfv",
        "colab_type": "code",
        "colab": {},
        "outputId": "726a2407-9344-450d-cec5-5f663aa054eb"
      },
      "cell_type": "code",
      "source": [
        "class Monster:\n",
        "    def __init__(self,color,heads):\n",
        "        self.color=color\n",
        "        self.heads=heads\n",
        "    def attack (self):\n",
        "        print ('attack just')\n",
        "snake=Monster('BLACK',4)\n",
        "print ('i am ' + str(snake.heads) + 'headed monster')"
      ],
      "execution_count": 0,
      "outputs": [
        {
          "output_type": "stream",
          "text": [
            "i am 4headed monster\n"
          ],
          "name": "stdout"
        }
      ]
    },
    {
      "metadata": {
        "id": "KScd-AtfbWf5",
        "colab_type": "code",
        "colab": {},
        "outputId": "5917102f-3035-40a4-f86a-5fc63051e12e"
      },
      "cell_type": "code",
      "source": [
        "snake.attack()"
      ],
      "execution_count": 0,
      "outputs": [
        {
          "output_type": "stream",
          "text": [
            "attack just\n"
          ],
          "name": "stdout"
        }
      ]
    },
    {
      "metadata": {
        "id": "2Gg8J5ktbWgS",
        "colab_type": "code",
        "colab": {}
      },
      "cell_type": "code",
      "source": [
        ""
      ],
      "execution_count": 0,
      "outputs": []
    }
  ]
}