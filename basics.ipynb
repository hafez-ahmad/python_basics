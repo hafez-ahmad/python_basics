{
  "nbformat": 4,
  "nbformat_minor": 0,
  "metadata": {
    "colab": {
      "name": "basics.ipynb",
      "version": "0.3.2",
      "provenance": []
    },
    "kernelspec": {
      "display_name": "Python 3",
      "language": "python",
      "name": "python3"
    }
  },
  "cells": [
    {
      "metadata": {
        "id": "CKvJJZxBbX6K",
        "colab_type": "code",
        "colab": {}
      },
      "cell_type": "code",
      "source": [
        "l=[1,2,3]"
      ],
      "execution_count": 0,
      "outputs": []
    },
    {
      "metadata": {
        "id": "llwDO5F4bX6a",
        "colab_type": "code",
        "colab": {},
        "outputId": "a84452a1-4a70-4592-b6e3-4ce0634c6ebf"
      },
      "cell_type": "code",
      "source": [
        "l"
      ],
      "execution_count": 0,
      "outputs": [
        {
          "output_type": "execute_result",
          "data": {
            "text/plain": [
              "[1, 2, 3]"
            ]
          },
          "metadata": {
            "tags": []
          },
          "execution_count": 4
        }
      ]
    },
    {
      "metadata": {
        "id": "x54Fbe6mbX6z",
        "colab_type": "code",
        "colab": {},
        "outputId": "ff9e8142-3227-41be-deda-118eaf32fc7b"
      },
      "cell_type": "code",
      "source": [
        "for i in l:\n",
        "    print(i)"
      ],
      "execution_count": 0,
      "outputs": [
        {
          "output_type": "stream",
          "text": [
            "1\n",
            "2\n",
            "3\n"
          ],
          "name": "stdout"
        }
      ]
    },
    {
      "metadata": {
        "id": "xqVSS6q_bX7D",
        "colab_type": "code",
        "colab": {},
        "outputId": "92a4dc32-9dc6-4c9b-eedc-2f1059a83558"
      },
      "cell_type": "code",
      "source": [
        "for i in l:\n",
        "    for i in l:\n",
        "        print(i)"
      ],
      "execution_count": 0,
      "outputs": [
        {
          "output_type": "stream",
          "text": [
            "1\n",
            "2\n",
            "3\n",
            "1\n",
            "2\n",
            "3\n",
            "1\n",
            "2\n",
            "3\n"
          ],
          "name": "stdout"
        }
      ]
    },
    {
      "metadata": {
        "id": "k1ak0GQ9bX7T",
        "colab_type": "code",
        "colab": {},
        "outputId": "ec37e0ec-e0b2-456d-efa0-5cf571311fa8"
      },
      "cell_type": "code",
      "source": [
        "for i in '123':\n",
        "    print(i)"
      ],
      "execution_count": 0,
      "outputs": [
        {
          "output_type": "stream",
          "text": [
            "1\n",
            "2\n",
            "3\n"
          ],
          "name": "stdout"
        }
      ]
    },
    {
      "metadata": {
        "id": "7gg1PaE4bX7h",
        "colab_type": "code",
        "colab": {},
        "outputId": "d54a07b6-b889-4c47-9ceb-90b4daeecf98"
      },
      "cell_type": "code",
      "source": [
        "for i in '12345':\n",
        "    print(\"weilcome\",i,\"times\")"
      ],
      "execution_count": 0,
      "outputs": [
        {
          "output_type": "stream",
          "text": [
            "weilcome 1 times\n",
            "weilcome 2 times\n",
            "weilcome 3 times\n",
            "weilcome 4 times\n",
            "weilcome 5 times\n"
          ],
          "name": "stdout"
        }
      ]
    },
    {
      "metadata": {
        "id": "QAPmpuFPbX7u",
        "colab_type": "code",
        "colab": {},
        "outputId": "85458113-1945-4835-e6d1-d8688d6ce28b"
      },
      "cell_type": "code",
      "source": [
        "i=1\n",
        "while i<=5:\n",
        "    print (\"welcome\",i,\"time\")\n",
        "    i+=1"
      ],
      "execution_count": 0,
      "outputs": [
        {
          "output_type": "stream",
          "text": [
            "welcome 1 time\n",
            "welcome 2 time\n",
            "welcome 3 time\n",
            "welcome 4 time\n",
            "welcome 5 time\n"
          ],
          "name": "stdout"
        }
      ]
    },
    {
      "metadata": {
        "id": "FIpAtMBUbX7-",
        "colab_type": "code",
        "colab": {}
      },
      "cell_type": "code",
      "source": [
        "sammy_shark = {'name': 'Sammy', 'animal': 'shark', 'color': 'blue', 'location': 'ocean'}"
      ],
      "execution_count": 0,
      "outputs": []
    },
    {
      "metadata": {
        "id": "n8kwa4DQbX8Y",
        "colab_type": "code",
        "colab": {},
        "outputId": "4b336e00-5068-41ea-a102-3511ed4047f0"
      },
      "cell_type": "code",
      "source": [
        "sammy_shark"
      ],
      "execution_count": 0,
      "outputs": [
        {
          "output_type": "execute_result",
          "data": {
            "text/plain": [
              "{'animal': 'shark', 'color': 'blue', 'location': 'ocean', 'name': 'Sammy'}"
            ]
          },
          "metadata": {
            "tags": []
          },
          "execution_count": 3
        }
      ]
    },
    {
      "metadata": {
        "id": "5KszyP6_bX8v",
        "colab_type": "code",
        "colab": {},
        "outputId": "0df69846-77f6-4c40-e41e-ba329ae9f70c"
      },
      "cell_type": "code",
      "source": [
        "for key in sammy_shark:\n",
        "    print(key+ ': '+ sammy_shark[key])"
      ],
      "execution_count": 0,
      "outputs": [
        {
          "output_type": "stream",
          "text": [
            "name: Sammy\n",
            "animal: shark\n",
            "color: blue\n",
            "location: ocean\n"
          ],
          "name": "stdout"
        }
      ]
    },
    {
      "metadata": {
        "id": "xG73VC4nbX9F",
        "colab_type": "code",
        "colab": {},
        "outputId": "9ad870e3-ce4f-4125-863d-cf246fefdac2"
      },
      "cell_type": "code",
      "source": [
        "sammy_shark['name']"
      ],
      "execution_count": 0,
      "outputs": [
        {
          "output_type": "execute_result",
          "data": {
            "text/plain": [
              "'Sammy'"
            ]
          },
          "metadata": {
            "tags": []
          },
          "execution_count": 9
        }
      ]
    },
    {
      "metadata": {
        "id": "pVy38SNKbX9b",
        "colab_type": "code",
        "colab": {},
        "outputId": "ab1e7e19-4250-43d5-8a3e-85dd26d775b4"
      },
      "cell_type": "code",
      "source": [
        "sammy_shark[key]"
      ],
      "execution_count": 0,
      "outputs": [
        {
          "output_type": "execute_result",
          "data": {
            "text/plain": [
              "'ocean'"
            ]
          },
          "metadata": {
            "tags": []
          },
          "execution_count": 10
        }
      ]
    },
    {
      "metadata": {
        "id": "WZH7mBOGbX9j",
        "colab_type": "code",
        "colab": {},
        "outputId": "6ae91d28-4bf9-48d1-9734-b628c8b01828"
      },
      "cell_type": "code",
      "source": [
        "sammy_shark.keys()"
      ],
      "execution_count": 0,
      "outputs": [
        {
          "output_type": "execute_result",
          "data": {
            "text/plain": [
              "dict_keys(['name', 'animal', 'color', 'location'])"
            ]
          },
          "metadata": {
            "tags": []
          },
          "execution_count": 6
        }
      ]
    },
    {
      "metadata": {
        "id": "HbjllwtcbX9v",
        "colab_type": "code",
        "colab": {},
        "outputId": "d451fa6d-198a-4f97-eba0-246c9fbff3b3"
      },
      "cell_type": "code",
      "source": [
        "for x in range(1,5):\n",
        "    for y in range(1,5):\n",
        "        print('%d' %(x))\n",
        "    "
      ],
      "execution_count": 0,
      "outputs": [
        {
          "output_type": "stream",
          "text": [
            "1\n",
            "1\n",
            "1\n",
            "1\n",
            "2\n",
            "2\n",
            "2\n",
            "2\n",
            "3\n",
            "3\n",
            "3\n",
            "3\n",
            "4\n",
            "4\n",
            "4\n",
            "4\n"
          ],
          "name": "stdout"
        }
      ]
    },
    {
      "metadata": {
        "id": "o4hzpizzbX94",
        "colab_type": "code",
        "colab": {}
      },
      "cell_type": "code",
      "source": [
        "names=['hafez','ahmad','taek','australia','US','UK']"
      ],
      "execution_count": 0,
      "outputs": []
    },
    {
      "metadata": {
        "id": "BbEqvf4pbX-A",
        "colab_type": "code",
        "colab": {},
        "outputId": "8394ae4a-29c0-4782-99a8-74ddfecebfb9"
      },
      "cell_type": "code",
      "source": [
        "enumerate(names)"
      ],
      "execution_count": 0,
      "outputs": [
        {
          "output_type": "execute_result",
          "data": {
            "text/plain": [
              "<enumerate at 0xba30ca5a68>"
            ]
          },
          "metadata": {
            "tags": []
          },
          "execution_count": 18
        }
      ]
    },
    {
      "metadata": {
        "id": "Gt5YCNylbX-H",
        "colab_type": "code",
        "colab": {},
        "outputId": "eed0397e-4441-4818-c43d-d66eca52eb7e"
      },
      "cell_type": "code",
      "source": [
        "for index , value in enumerate(names):\n",
        "    print(index , value)"
      ],
      "execution_count": 0,
      "outputs": [
        {
          "output_type": "stream",
          "text": [
            "0 hafez\n",
            "1 ahmad\n",
            "2 taek\n",
            "3 australia\n",
            "4 US\n",
            "5 UK\n"
          ],
          "name": "stdout"
        }
      ]
    },
    {
      "metadata": {
        "id": "_P29YZNxbX-Q",
        "colab_type": "code",
        "colab": {}
      },
      "cell_type": "code",
      "source": [
        ""
      ],
      "execution_count": 0,
      "outputs": []
    },
    {
      "metadata": {
        "id": "nZQvX3K8bX-c",
        "colab_type": "code",
        "colab": {}
      },
      "cell_type": "code",
      "source": [
        ""
      ],
      "execution_count": 0,
      "outputs": []
    },
    {
      "metadata": {
        "id": "b_I_a59RbX-k",
        "colab_type": "code",
        "colab": {}
      },
      "cell_type": "code",
      "source": [
        ""
      ],
      "execution_count": 0,
      "outputs": []
    },
    {
      "metadata": {
        "id": "gAUPfpP0bX-p",
        "colab_type": "code",
        "colab": {}
      },
      "cell_type": "code",
      "source": [
        ""
      ],
      "execution_count": 0,
      "outputs": []
    },
    {
      "metadata": {
        "id": "pJGZZmJMbX-y",
        "colab_type": "code",
        "colab": {}
      },
      "cell_type": "code",
      "source": [
        ""
      ],
      "execution_count": 0,
      "outputs": []
    },
    {
      "metadata": {
        "id": "cZSfdHW5bX-2",
        "colab_type": "code",
        "colab": {}
      },
      "cell_type": "code",
      "source": [
        ""
      ],
      "execution_count": 0,
      "outputs": []
    },
    {
      "metadata": {
        "id": "Qrtv9_A8bX--",
        "colab_type": "code",
        "colab": {}
      },
      "cell_type": "code",
      "source": [
        ""
      ],
      "execution_count": 0,
      "outputs": []
    },
    {
      "metadata": {
        "id": "6kmDVAF0bX_D",
        "colab_type": "code",
        "colab": {}
      },
      "cell_type": "code",
      "source": [
        ""
      ],
      "execution_count": 0,
      "outputs": []
    },
    {
      "metadata": {
        "id": "gp84wHUPbX_I",
        "colab_type": "code",
        "colab": {}
      },
      "cell_type": "code",
      "source": [
        ""
      ],
      "execution_count": 0,
      "outputs": []
    },
    {
      "metadata": {
        "id": "sY3JV4sMbX_O",
        "colab_type": "code",
        "colab": {}
      },
      "cell_type": "code",
      "source": [
        ""
      ],
      "execution_count": 0,
      "outputs": []
    },
    {
      "metadata": {
        "id": "gqdvizThbX_X",
        "colab_type": "code",
        "colab": {}
      },
      "cell_type": "code",
      "source": [
        ""
      ],
      "execution_count": 0,
      "outputs": []
    },
    {
      "metadata": {
        "id": "24kjyWezbX_f",
        "colab_type": "code",
        "colab": {}
      },
      "cell_type": "code",
      "source": [
        ""
      ],
      "execution_count": 0,
      "outputs": []
    },
    {
      "metadata": {
        "id": "dk2EyqsUbX_n",
        "colab_type": "code",
        "colab": {}
      },
      "cell_type": "code",
      "source": [
        ""
      ],
      "execution_count": 0,
      "outputs": []
    },
    {
      "metadata": {
        "id": "DDDR_ywMbX_0",
        "colab_type": "code",
        "colab": {}
      },
      "cell_type": "code",
      "source": [
        ""
      ],
      "execution_count": 0,
      "outputs": []
    },
    {
      "metadata": {
        "id": "b8ufMkZDbX_4",
        "colab_type": "code",
        "colab": {}
      },
      "cell_type": "code",
      "source": [
        ""
      ],
      "execution_count": 0,
      "outputs": []
    },
    {
      "metadata": {
        "id": "rXpf1jeobYAC",
        "colab_type": "code",
        "colab": {}
      },
      "cell_type": "code",
      "source": [
        ""
      ],
      "execution_count": 0,
      "outputs": []
    },
    {
      "metadata": {
        "id": "y81b_qkLbYAH",
        "colab_type": "code",
        "colab": {}
      },
      "cell_type": "code",
      "source": [
        ""
      ],
      "execution_count": 0,
      "outputs": []
    },
    {
      "metadata": {
        "id": "CNXyNbZUbYAJ",
        "colab_type": "code",
        "colab": {}
      },
      "cell_type": "code",
      "source": [
        ""
      ],
      "execution_count": 0,
      "outputs": []
    },
    {
      "metadata": {
        "id": "aS-ynEkAbYAP",
        "colab_type": "code",
        "colab": {}
      },
      "cell_type": "code",
      "source": [
        ""
      ],
      "execution_count": 0,
      "outputs": []
    },
    {
      "metadata": {
        "id": "PMgpCHfubYAV",
        "colab_type": "code",
        "colab": {}
      },
      "cell_type": "code",
      "source": [
        ""
      ],
      "execution_count": 0,
      "outputs": []
    },
    {
      "metadata": {
        "id": "W5JRbGeLbYAY",
        "colab_type": "code",
        "colab": {}
      },
      "cell_type": "code",
      "source": [
        ""
      ],
      "execution_count": 0,
      "outputs": []
    },
    {
      "metadata": {
        "id": "115ZXRRTbYAf",
        "colab_type": "code",
        "colab": {}
      },
      "cell_type": "code",
      "source": [
        "def matcher(lst,match):\n",
        "    for i in lst:\n",
        "        if i==match:\n",
        "            return True\n",
        "    return False"
      ],
      "execution_count": 0,
      "outputs": []
    },
    {
      "metadata": {
        "id": "-9RUcvOvbYAj",
        "colab_type": "code",
        "colab": {}
      },
      "cell_type": "code",
      "source": [
        "lst=[1,23,3,2]"
      ],
      "execution_count": 0,
      "outputs": []
    },
    {
      "metadata": {
        "id": "aKLPPHw0bYAr",
        "colab_type": "code",
        "colab": {},
        "outputId": "0cf64103-8063-4cb2-9833-c6c022b73a77"
      },
      "cell_type": "code",
      "source": [
        "matcher(lst,2)"
      ],
      "execution_count": 0,
      "outputs": [
        {
          "output_type": "execute_result",
          "data": {
            "text/plain": [
              "True"
            ]
          },
          "metadata": {
            "tags": []
          },
          "execution_count": 19
        }
      ]
    },
    {
      "metadata": {
        "id": "A-nd-y6xbYAx",
        "colab_type": "code",
        "colab": {},
        "outputId": "be67d9c9-7866-4dbe-d959-e07cf651f5fb"
      },
      "cell_type": "code",
      "source": [
        "matcher(lst,4)"
      ],
      "execution_count": 0,
      "outputs": [
        {
          "output_type": "execute_result",
          "data": {
            "text/plain": [
              "False"
            ]
          },
          "metadata": {
            "tags": []
          },
          "execution_count": 20
        }
      ]
    },
    {
      "metadata": {
        "id": "LUQeAgnwbYA4",
        "colab_type": "text"
      },
      "cell_type": "markdown",
      "source": [
        "# OOP"
      ]
    },
    {
      "metadata": {
        "id": "afnSeQL1bYA7",
        "colab_type": "code",
        "colab": {}
      },
      "cell_type": "code",
      "source": [
        "class ilish:\n",
        "    def swim(self):\n",
        "        print(\"ilish can swim\")\n",
        "    def be_awesome(self):\n",
        "        print(\"hilsha is being awesome\")"
      ],
      "execution_count": 0,
      "outputs": []
    },
    {
      "metadata": {
        "id": "1xInxCWobYBD",
        "colab_type": "code",
        "colab": {}
      },
      "cell_type": "code",
      "source": [
        "tenoua=ilish()"
      ],
      "execution_count": 0,
      "outputs": []
    },
    {
      "metadata": {
        "id": "Zx1gJTVnbYBG",
        "colab_type": "code",
        "colab": {},
        "outputId": "dc816770-6800-4905-f0bd-7e4797fb067b"
      },
      "cell_type": "code",
      "source": [
        "tenoua.swim()"
      ],
      "execution_count": 0,
      "outputs": [
        {
          "output_type": "stream",
          "text": [
            "ilish can swim\n"
          ],
          "name": "stdout"
        }
      ]
    },
    {
      "metadata": {
        "id": "rEs_a0DJbYBM",
        "colab_type": "code",
        "colab": {},
        "outputId": "84d5b597-3bdd-4f4c-dac5-331e0d222305"
      },
      "cell_type": "code",
      "source": [
        "class ilish:\n",
        "    def swim(self):\n",
        "        print(\"ilish can swim\")\n",
        "    def be_awesome(self):\n",
        "        print(\"hilsha is being awesome\")\n",
        "def main():\n",
        "    tenoua=ilish()\n",
        "    tenoua.swim()\n",
        "    tenoua.be_awesome()\n",
        "if __name__==\"__main__\":\n",
        "    main()"
      ],
      "execution_count": 0,
      "outputs": [
        {
          "output_type": "stream",
          "text": [
            "ilish can swim\n",
            "hilsha is being awesome\n"
          ],
          "name": "stdout"
        }
      ]
    },
    {
      "metadata": {
        "id": "-mjgFlWMbYBR",
        "colab_type": "code",
        "colab": {},
        "outputId": "c6846a52-4444-4e3e-cdc7-5ddba8196625"
      },
      "cell_type": "code",
      "source": [
        "class Ilish:\n",
        "    def __init__(self,name):\n",
        "        self.name=name\n",
        "        \n",
        "    def swim(self):\n",
        "        print(self.name+ \" is swimming.\")\n",
        "    def be_awesome(self):\n",
        "        print(self.name+ \" is being awesome.\")\n",
        "        \n",
        "def main():\n",
        "    tenoua=Ilish(\"hilsha\")\n",
        "    tenoua.swim()\n",
        "    tenoua.be_awesome()\n",
        "    tenoua1=Ilish(\"hisla\")\n",
        "    tenoua1.swim()\n",
        "    \n",
        "if __name__==\"__main__\":\n",
        "    main()"
      ],
      "execution_count": 0,
      "outputs": [
        {
          "output_type": "stream",
          "text": [
            "hilsha is swimming.\n",
            "hilsha is being awesome.\n",
            "hisla is swimming.\n"
          ],
          "name": "stdout"
        }
      ]
    },
    {
      "metadata": {
        "id": "EwJ_KBztbYBa",
        "colab_type": "code",
        "colab": {}
      },
      "cell_type": "code",
      "source": [
        ""
      ],
      "execution_count": 0,
      "outputs": []
    },
    {
      "metadata": {
        "id": "SivW0DA7bYBc",
        "colab_type": "code",
        "colab": {}
      },
      "cell_type": "code",
      "source": [
        ""
      ],
      "execution_count": 0,
      "outputs": []
    },
    {
      "metadata": {
        "id": "-PcpHeSKbYBf",
        "colab_type": "code",
        "colab": {}
      },
      "cell_type": "code",
      "source": [
        ""
      ],
      "execution_count": 0,
      "outputs": []
    },
    {
      "metadata": {
        "id": "N4cY-zS8bYBh",
        "colab_type": "code",
        "colab": {}
      },
      "cell_type": "code",
      "source": [
        ""
      ],
      "execution_count": 0,
      "outputs": []
    },
    {
      "metadata": {
        "id": "zV-uYDL0bYBj",
        "colab_type": "code",
        "colab": {}
      },
      "cell_type": "code",
      "source": [
        ""
      ],
      "execution_count": 0,
      "outputs": []
    },
    {
      "metadata": {
        "id": "UTiTNsTRbYBm",
        "colab_type": "code",
        "colab": {}
      },
      "cell_type": "code",
      "source": [
        ""
      ],
      "execution_count": 0,
      "outputs": []
    },
    {
      "metadata": {
        "id": "UM-RfVThbYBr",
        "colab_type": "code",
        "colab": {}
      },
      "cell_type": "code",
      "source": [
        ""
      ],
      "execution_count": 0,
      "outputs": []
    },
    {
      "metadata": {
        "id": "8vl5qx6AbYBw",
        "colab_type": "code",
        "colab": {}
      },
      "cell_type": "code",
      "source": [
        ""
      ],
      "execution_count": 0,
      "outputs": []
    },
    {
      "metadata": {
        "id": "gIb_a9ombYB0",
        "colab_type": "code",
        "colab": {}
      },
      "cell_type": "code",
      "source": [
        ""
      ],
      "execution_count": 0,
      "outputs": []
    },
    {
      "metadata": {
        "id": "l5P6-jHVbYB5",
        "colab_type": "code",
        "colab": {}
      },
      "cell_type": "code",
      "source": [
        ""
      ],
      "execution_count": 0,
      "outputs": []
    },
    {
      "metadata": {
        "id": "4LmvBX-ZbYB9",
        "colab_type": "code",
        "colab": {}
      },
      "cell_type": "code",
      "source": [
        ""
      ],
      "execution_count": 0,
      "outputs": []
    },
    {
      "metadata": {
        "id": "-6f5tmLHbYCA",
        "colab_type": "code",
        "colab": {}
      },
      "cell_type": "code",
      "source": [
        ""
      ],
      "execution_count": 0,
      "outputs": []
    },
    {
      "metadata": {
        "id": "2Au0dqQEbYCC",
        "colab_type": "code",
        "colab": {}
      },
      "cell_type": "code",
      "source": [
        ""
      ],
      "execution_count": 0,
      "outputs": []
    },
    {
      "metadata": {
        "id": "6sr320K5bYCF",
        "colab_type": "code",
        "colab": {}
      },
      "cell_type": "code",
      "source": [
        ""
      ],
      "execution_count": 0,
      "outputs": []
    },
    {
      "metadata": {
        "id": "GfUAFdNZbYCJ",
        "colab_type": "code",
        "colab": {}
      },
      "cell_type": "code",
      "source": [
        ""
      ],
      "execution_count": 0,
      "outputs": []
    },
    {
      "metadata": {
        "id": "0wHxZpRubYCL",
        "colab_type": "code",
        "colab": {}
      },
      "cell_type": "code",
      "source": [
        ""
      ],
      "execution_count": 0,
      "outputs": []
    },
    {
      "metadata": {
        "id": "G8UXDd3hbYCO",
        "colab_type": "code",
        "colab": {}
      },
      "cell_type": "code",
      "source": [
        ""
      ],
      "execution_count": 0,
      "outputs": []
    },
    {
      "metadata": {
        "id": "xztxFWAPbYCS",
        "colab_type": "code",
        "colab": {}
      },
      "cell_type": "code",
      "source": [
        ""
      ],
      "execution_count": 0,
      "outputs": []
    },
    {
      "metadata": {
        "id": "vDXv55AAbYCV",
        "colab_type": "code",
        "colab": {}
      },
      "cell_type": "code",
      "source": [
        ""
      ],
      "execution_count": 0,
      "outputs": []
    },
    {
      "metadata": {
        "id": "V-JENIhZbYCY",
        "colab_type": "code",
        "colab": {}
      },
      "cell_type": "code",
      "source": [
        ""
      ],
      "execution_count": 0,
      "outputs": []
    },
    {
      "metadata": {
        "id": "Ztu2WnaxbYCa",
        "colab_type": "code",
        "colab": {}
      },
      "cell_type": "code",
      "source": [
        ""
      ],
      "execution_count": 0,
      "outputs": []
    },
    {
      "metadata": {
        "id": "GYct-4FIbYCd",
        "colab_type": "code",
        "colab": {}
      },
      "cell_type": "code",
      "source": [
        ""
      ],
      "execution_count": 0,
      "outputs": []
    },
    {
      "metadata": {
        "id": "uGKYSWL3bYCf",
        "colab_type": "code",
        "colab": {}
      },
      "cell_type": "code",
      "source": [
        "class Person:\n",
        "    def __init__(self,name,age):\n",
        "        self.name=name\n",
        "        self.age=age\n",
        "        \n",
        "        def showname(self):\n",
        "            print(self.age)\n",
        "        def showage(self):\n",
        "            print(self.age)\n",
        "class Student:\n",
        "    def __init__(self,Id):\n",
        "        self.Id=Id\n",
        "    def getid(self):\n",
        "        return self.Id\n",
        "class Resident(Person,Student):\n",
        "    def __init__(self,name,age,Id):\n",
        "        Person.__init__(self,name,age)\n",
        "        Student.__init__(self,Id)\n",
        "resident1=Resident('hafez ahamd',22, '15207021')\n"
      ],
      "execution_count": 0,
      "outputs": []
    },
    {
      "metadata": {
        "id": "1s-34mKYbYCj",
        "colab_type": "code",
        "colab": {},
        "outputId": "d7a56978-90fc-41d6-93a4-fd331f646135"
      },
      "cell_type": "code",
      "source": [
        "resident1.name"
      ],
      "execution_count": 0,
      "outputs": [
        {
          "output_type": "execute_result",
          "data": {
            "text/plain": [
              "'hafez ahamd'"
            ]
          },
          "metadata": {
            "tags": []
          },
          "execution_count": 5
        }
      ]
    },
    {
      "metadata": {
        "id": "N4VrY9u4bYCn",
        "colab_type": "code",
        "colab": {},
        "outputId": "55cb2bfe-0159-4d1c-ff66-d32f48f3c136"
      },
      "cell_type": "code",
      "source": [
        "resident1.getid()"
      ],
      "execution_count": 0,
      "outputs": [
        {
          "output_type": "execute_result",
          "data": {
            "text/plain": [
              "'15207021'"
            ]
          },
          "metadata": {
            "tags": []
          },
          "execution_count": 11
        }
      ]
    },
    {
      "metadata": {
        "id": "gNzcrEWnbYCp",
        "colab_type": "code",
        "colab": {}
      },
      "cell_type": "code",
      "source": [
        "class Fish:\n",
        "    def __init__(self,first_name,last_name=\"fish\",skeleton=\"bone\",eyelids=False):\n",
        "        self.first_name=first_name\n",
        "        self.last_name=last_name\n",
        "        self.skeleton=skeleton\n",
        "        self.eyelids=eyelids\n",
        "        \n",
        "        \n",
        "    def swim(self):\n",
        "        print(\"it can swim\")\n",
        "    def swim_back(self):\n",
        "        print(\" can do it backward\")"
      ],
      "execution_count": 0,
      "outputs": []
    },
    {
      "metadata": {
        "id": "Pgcv7J6UbYCu",
        "colab_type": "code",
        "colab": {}
      },
      "cell_type": "code",
      "source": [
        "class Trout(Fish):\n",
        "    def __init__(self,water=\"frshwater\"):\n",
        "        self.water=water\n",
        "        super().__init__(self)"
      ],
      "execution_count": 0,
      "outputs": []
    },
    {
      "metadata": {
        "id": "vBgf7kZXbYCz",
        "colab_type": "code",
        "colab": {}
      },
      "cell_type": "code",
      "source": [
        "terry=Trout()"
      ],
      "execution_count": 0,
      "outputs": []
    },
    {
      "metadata": {
        "id": "76F-F9e4bYC1",
        "colab_type": "code",
        "colab": {}
      },
      "cell_type": "code",
      "source": [
        "terry.first_name='terry'"
      ],
      "execution_count": 0,
      "outputs": []
    },
    {
      "metadata": {
        "id": "BqB7OLVRbYC4",
        "colab_type": "code",
        "colab": {},
        "outputId": "80617770-c11d-4aad-e6fc-4933121a60e1"
      },
      "cell_type": "code",
      "source": [
        "terry.first_name+\" \"+ terry.last_name"
      ],
      "execution_count": 0,
      "outputs": [
        {
          "output_type": "execute_result",
          "data": {
            "text/plain": [
              "'terry fish'"
            ]
          },
          "metadata": {
            "tags": []
          },
          "execution_count": 44
        }
      ]
    },
    {
      "metadata": {
        "id": "uH_EXkt7bYC8",
        "colab_type": "code",
        "colab": {},
        "outputId": "7a5fd3c9-b3cc-4fe3-a12f-65fa0e6dc40f"
      },
      "cell_type": "code",
      "source": [
        "terry.swim()"
      ],
      "execution_count": 0,
      "outputs": [
        {
          "output_type": "stream",
          "text": [
            "it can swim\n"
          ],
          "name": "stdout"
        }
      ]
    },
    {
      "metadata": {
        "id": "GHUC9dQubYDA",
        "colab_type": "code",
        "colab": {},
        "outputId": "049b77a1-5255-4240-9596-c7e6da04c900"
      },
      "cell_type": "code",
      "source": [
        "terry.skeleton"
      ],
      "execution_count": 0,
      "outputs": [
        {
          "output_type": "execute_result",
          "data": {
            "text/plain": [
              "'bone'"
            ]
          },
          "metadata": {
            "tags": []
          },
          "execution_count": 17
        }
      ]
    },
    {
      "metadata": {
        "id": "-qzZY6JabYDF",
        "colab_type": "code",
        "colab": {},
        "outputId": "02198fd5-456c-4161-941d-cc8f49975291"
      },
      "cell_type": "code",
      "source": [
        "terry.eyelids"
      ],
      "execution_count": 0,
      "outputs": [
        {
          "output_type": "execute_result",
          "data": {
            "text/plain": [
              "False"
            ]
          },
          "metadata": {
            "tags": []
          },
          "execution_count": 20
        }
      ]
    },
    {
      "metadata": {
        "id": "ZETF3pSZbYDJ",
        "colab_type": "code",
        "colab": {},
        "outputId": "ba57215c-e16a-4484-9d97-88825e22e38d"
      },
      "cell_type": "code",
      "source": [
        "terry.swim()"
      ],
      "execution_count": 0,
      "outputs": [
        {
          "output_type": "stream",
          "text": [
            "it can swim\n"
          ],
          "name": "stdout"
        }
      ]
    },
    {
      "metadata": {
        "id": "v_pbIzl7bYDQ",
        "colab_type": "code",
        "colab": {}
      },
      "cell_type": "code",
      "source": [
        "class Clownfish(Fish):\n",
        "    def live_with_anemone(self):\n",
        "        print(\" clownfish ecoexiting with sea anemone\")"
      ],
      "execution_count": 0,
      "outputs": []
    },
    {
      "metadata": {
        "id": "VFlhz75sbYDT",
        "colab_type": "code",
        "colab": {}
      },
      "cell_type": "code",
      "source": [
        "casey=Clownfish('casey')"
      ],
      "execution_count": 0,
      "outputs": []
    },
    {
      "metadata": {
        "id": "SxSp5yzObYDV",
        "colab_type": "code",
        "colab": {},
        "outputId": "3581439a-ad05-40f8-ede5-a4bd1ede5c27"
      },
      "cell_type": "code",
      "source": [
        "casey.first_name+\" \"+ casey.last_name"
      ],
      "execution_count": 0,
      "outputs": [
        {
          "output_type": "execute_result",
          "data": {
            "text/plain": [
              "'casey fish'"
            ]
          },
          "metadata": {
            "tags": []
          },
          "execution_count": 26
        }
      ]
    },
    {
      "metadata": {
        "id": "o6qOrnwUbYDZ",
        "colab_type": "code",
        "colab": {},
        "outputId": "b9d7f808-e3eb-4f46-ac31-7ad4562b5d9e"
      },
      "cell_type": "code",
      "source": [
        "casey.last_name"
      ],
      "execution_count": 0,
      "outputs": [
        {
          "output_type": "execute_result",
          "data": {
            "text/plain": [
              "'fish'"
            ]
          },
          "metadata": {
            "tags": []
          },
          "execution_count": 27
        }
      ]
    },
    {
      "metadata": {
        "id": "mUVX0nb8bYDb",
        "colab_type": "code",
        "colab": {},
        "outputId": "9dda88bc-683f-467b-fce2-17e431e0fc05"
      },
      "cell_type": "code",
      "source": [
        "casey.live_with_anemone()"
      ],
      "execution_count": 0,
      "outputs": [
        {
          "output_type": "stream",
          "text": [
            " clownfish ecoexiting with sea anemone\n"
          ],
          "name": "stdout"
        }
      ]
    },
    {
      "metadata": {
        "id": "ZBzi3COMbYDd",
        "colab_type": "code",
        "colab": {}
      },
      "cell_type": "code",
      "source": [
        "class Shark(Fish):\n",
        "    def __init__(self,first_name,last_name=\"shark\",skeleton='cartilage',eyelids=True):\n",
        "        self.first_name=first_name\n",
        "        self.last_name=last_name\n",
        "        self.skeleton=skeleton\n",
        "        self.eyelids=eyelids\n",
        "    def swim_back(self):\n",
        "        print(\"cannot it but sink\")\n",
        "    "
      ],
      "execution_count": 0,
      "outputs": []
    },
    {
      "metadata": {
        "id": "fYcRgVKYbYDf",
        "colab_type": "code",
        "colab": {}
      },
      "cell_type": "code",
      "source": [
        "sammy=Shark(\"sammy\")"
      ],
      "execution_count": 0,
      "outputs": []
    },
    {
      "metadata": {
        "id": "lXj7bK50bYDi",
        "colab_type": "code",
        "colab": {},
        "outputId": "bfe4b278-54ed-4585-9969-9c94cdc48905"
      },
      "cell_type": "code",
      "source": [
        "sammy.first_name+ ' '+ sammy.last_name"
      ],
      "execution_count": 0,
      "outputs": [
        {
          "output_type": "execute_result",
          "data": {
            "text/plain": [
              "'sammy shark'"
            ]
          },
          "metadata": {
            "tags": []
          },
          "execution_count": 36
        }
      ]
    },
    {
      "metadata": {
        "id": "ugXeNQ_vbYDj",
        "colab_type": "code",
        "colab": {},
        "outputId": "e2032e1b-b65b-441a-888d-5a17ef3d4f1c"
      },
      "cell_type": "code",
      "source": [
        "sammy.swim()"
      ],
      "execution_count": 0,
      "outputs": [
        {
          "output_type": "stream",
          "text": [
            "it can swim\n"
          ],
          "name": "stdout"
        }
      ]
    },
    {
      "metadata": {
        "id": "1kl9waIRbYDl",
        "colab_type": "code",
        "colab": {},
        "outputId": "fa8f0808-de7d-480f-e477-980a5071a565"
      },
      "cell_type": "code",
      "source": [
        "sammy.swim_back()"
      ],
      "execution_count": 0,
      "outputs": [
        {
          "output_type": "stream",
          "text": [
            "cannot it but sink\n"
          ],
          "name": "stdout"
        }
      ]
    },
    {
      "metadata": {
        "id": "Mo-cp0M1bYDo",
        "colab_type": "code",
        "colab": {}
      },
      "cell_type": "code",
      "source": [
        "class Coral:\n",
        "    def community(self):\n",
        "        print(\"coral lives in community\")\n",
        "class Anemone:\n",
        "    def protect_clownfish(self):\n",
        "        print(\" this is protecting clownfish\")\n",
        "class Coralreef(Coral, Anemone):\n",
        "    pass"
      ],
      "execution_count": 0,
      "outputs": []
    },
    {
      "metadata": {
        "id": "xweJ-f4LbYDp",
        "colab_type": "code",
        "colab": {}
      },
      "cell_type": "code",
      "source": [
        "great_barrier=Coralreef()"
      ],
      "execution_count": 0,
      "outputs": []
    },
    {
      "metadata": {
        "id": "o7eR_GxDbYDq",
        "colab_type": "code",
        "colab": {},
        "outputId": "562ebf12-cd17-4088-c3ad-6af7a8072077"
      },
      "cell_type": "code",
      "source": [
        "great_barrier.community()"
      ],
      "execution_count": 0,
      "outputs": [
        {
          "output_type": "stream",
          "text": [
            "coral lives in community\n"
          ],
          "name": "stdout"
        }
      ]
    },
    {
      "metadata": {
        "id": "lvq99bMkbYDs",
        "colab_type": "code",
        "colab": {},
        "outputId": "4a1ecf7c-18f7-4991-c1ad-ad8738f35154"
      },
      "cell_type": "code",
      "source": [
        "great_barrier.protect_clownfish()"
      ],
      "execution_count": 0,
      "outputs": [
        {
          "output_type": "stream",
          "text": [
            " this is protecting clownfish\n"
          ],
          "name": "stdout"
        }
      ]
    },
    {
      "metadata": {
        "id": "_Dqo76OjbYDw",
        "colab_type": "code",
        "colab": {}
      },
      "cell_type": "code",
      "source": [
        ""
      ],
      "execution_count": 0,
      "outputs": []
    }
  ]
}