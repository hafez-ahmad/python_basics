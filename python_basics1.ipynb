{
  "nbformat": 4,
  "nbformat_minor": 0,
  "metadata": {
    "colab": {
      "name": "python basics1.ipynb",
      "version": "0.3.2",
      "provenance": []
    },
    "kernelspec": {
      "display_name": "Python 2",
      "language": "python",
      "name": "python2"
    }
  },
  "cells": [
    {
      "metadata": {
        "id": "29mZ1MxgZ_3e",
        "colab_type": "code",
        "colab": {}
      },
      "cell_type": "code",
      "source": [
        "def prime(num):\n",
        "    for n in range(2,num):\n",
        "        if num%n==0:\n",
        "            print (\"it is not prime\")\n",
        "            break\n",
        "        else:\n",
        "            print (\"it is prime \")"
      ],
      "execution_count": 0,
      "outputs": []
    },
    {
      "metadata": {
        "id": "H_qYBWGyZ_3w",
        "colab_type": "code",
        "colab": {},
        "outputId": "717599d5-18ab-46bd-e89b-b49040fca2ba"
      },
      "cell_type": "code",
      "source": [
        "prime(12)"
      ],
      "execution_count": 0,
      "outputs": [
        {
          "output_type": "stream",
          "text": [
            "it is not prime\n"
          ],
          "name": "stdout"
        }
      ]
    },
    {
      "metadata": {
        "id": "DzC_btBXZ_4H",
        "colab_type": "code",
        "colab": {},
        "outputId": "05c1471c-6284-418d-fa37-104794bb4d90"
      },
      "cell_type": "code",
      "source": [
        "import sys\n",
        "print(sys.version)\n",
        "print(sys.version_info)"
      ],
      "execution_count": 0,
      "outputs": [
        {
          "output_type": "stream",
          "text": [
            "2.7.14 | packaged by conda-forge | (default, Mar 30 2018, 18:30:23) [MSC v.1500 32 bit (Intel)]\n",
            "sys.version_info(major=2, minor=7, micro=14, releaselevel='final', serial=0)\n"
          ],
          "name": "stdout"
        }
      ]
    },
    {
      "metadata": {
        "id": "OgcAxbdIZ_4V",
        "colab_type": "code",
        "colab": {},
        "outputId": "5ab7843f-0146-472a-dd5e-cf5fdd035629"
      },
      "cell_type": "code",
      "source": [
        "prime(3)"
      ],
      "execution_count": 0,
      "outputs": [
        {
          "output_type": "stream",
          "text": [
            "it is prime \n"
          ],
          "name": "stdout"
        }
      ]
    },
    {
      "metadata": {
        "id": "Qor14C81Z_4j",
        "colab_type": "code",
        "colab": {},
        "outputId": "043a08c9-f71b-4fc2-e614-eb52980d0f26"
      },
      "cell_type": "code",
      "source": [
        "range(2,12)"
      ],
      "execution_count": 0,
      "outputs": [
        {
          "output_type": "execute_result",
          "data": {
            "text/plain": [
              "[2, 3, 4, 5, 6, 7, 8, 9, 10, 11]"
            ]
          },
          "metadata": {
            "tags": []
          },
          "execution_count": 29
        }
      ]
    },
    {
      "metadata": {
        "id": "Sx0mmsJsZ_4z",
        "colab_type": "code",
        "colab": {},
        "outputId": "733a6ae6-c36f-48fe-8313-7ad3d07e422c"
      },
      "cell_type": "code",
      "source": [
        "l=[2,3,3,3]\n",
        "l"
      ],
      "execution_count": 0,
      "outputs": [
        {
          "output_type": "execute_result",
          "data": {
            "text/plain": [
              "[2, 3, 3, 3]"
            ]
          },
          "metadata": {
            "tags": []
          },
          "execution_count": 30
        }
      ]
    },
    {
      "metadata": {
        "id": "cXuLh3YlZ_5B",
        "colab_type": "code",
        "colab": {}
      },
      "cell_type": "code",
      "source": [
        "l.extend([5,6])"
      ],
      "execution_count": 0,
      "outputs": []
    },
    {
      "metadata": {
        "id": "mMxZujU4Z_5M",
        "colab_type": "code",
        "colab": {},
        "outputId": "c9cdb021-4abb-43be-acaa-f365fd7a2c20"
      },
      "cell_type": "code",
      "source": [
        "l"
      ],
      "execution_count": 0,
      "outputs": [
        {
          "output_type": "execute_result",
          "data": {
            "text/plain": [
              "[2, 3, 3, 3, 5, 6]"
            ]
          },
          "metadata": {
            "tags": []
          },
          "execution_count": 35
        }
      ]
    },
    {
      "metadata": {
        "id": "UUMuBG1jZ_5d",
        "colab_type": "code",
        "colab": {}
      },
      "cell_type": "code",
      "source": [
        "l.insert(1,23)"
      ],
      "execution_count": 0,
      "outputs": []
    },
    {
      "metadata": {
        "id": "rT9BXhtQZ_5n",
        "colab_type": "code",
        "colab": {},
        "outputId": "6a8f1e67-a556-40ef-b5e5-6e43a0998a56"
      },
      "cell_type": "code",
      "source": [
        "l"
      ],
      "execution_count": 0,
      "outputs": [
        {
          "output_type": "execute_result",
          "data": {
            "text/plain": [
              "[2, 23, 3, 3, 3, 5, 6]"
            ]
          },
          "metadata": {
            "tags": []
          },
          "execution_count": 37
        }
      ]
    },
    {
      "metadata": {
        "id": "L_El3WyKZ_5_",
        "colab_type": "code",
        "colab": {},
        "outputId": "8e7b3c81-493e-4ad7-a24c-8afef8ebc3c7"
      },
      "cell_type": "code",
      "source": [
        "x=raw_input(\"input of trip: \")"
      ],
      "execution_count": 0,
      "outputs": [
        {
          "output_type": "stream",
          "text": [
            "input of trip: mg=12\n"
          ],
          "name": "stdout"
        }
      ]
    },
    {
      "metadata": {
        "id": "u0AuCtBmZ_6O",
        "colab_type": "code",
        "colab": {}
      },
      "cell_type": "code",
      "source": [
        "s1=\"how\"\n",
        "s2=  \"are you?\"\n",
        "f=7.0\n",
        "int1=12"
      ],
      "execution_count": 0,
      "outputs": []
    },
    {
      "metadata": {
        "id": "SDZPVDNqZ_6X",
        "colab_type": "code",
        "colab": {},
        "outputId": "1136912a-bc80-4ce4-80d0-f1ade6996ab6"
      },
      "cell_type": "code",
      "source": [
        "print('1.{} {}'.format(s1,s2))"
      ],
      "execution_count": 0,
      "outputs": [
        {
          "output_type": "stream",
          "text": [
            "1.how are you?\n"
          ],
          "name": "stdout"
        }
      ]
    },
    {
      "metadata": {
        "id": "qFWQpx_jZ_6l",
        "colab_type": "code",
        "colab": {},
        "outputId": "1ee4b693-3515-445c-9c5f-5905c41d58d0"
      },
      "cell_type": "code",
      "source": [
        "string1 = \"How\"\n",
        "string2 = \"are you my friend?\"\n",
        "int1 = 34\n",
        "int2 = 942885\n",
        "float1 = -3.0\n",
        "float2 = 3.141592653589793e-14\n",
        "print(string1 + ' ' + string2)\n",
        "print(' 1. {} {}'.format(string1, string2))\n",
        "print(' 2. {0:s} {1:s}'.format(string1, string2))\n",
        "print(' 3. {0:s} {0:s} {1:s} - {0:s} {1:s}'.format(string1, string2))"
      ],
      "execution_count": 0,
      "outputs": [
        {
          "output_type": "stream",
          "text": [
            "How are you my friend?\n",
            " 1. How are you my friend?\n",
            " 2. How are you my friend?\n",
            " 3. How How are you my friend? - How are you my friend?\n"
          ],
          "name": "stdout"
        }
      ]
    },
    {
      "metadata": {
        "id": "xcibUiHHZ_6y",
        "colab_type": "code",
        "colab": {},
        "outputId": "551fb2a4-2905-43c6-a3f3-59adce91fbee"
      },
      "cell_type": "code",
      "source": [
        "print ('2.{0:s} {1:s}-{0:s} {1:s}'.format(string1,string2))"
      ],
      "execution_count": 0,
      "outputs": [
        {
          "output_type": "stream",
          "text": [
            "2.How are you my friend?-How are you my friend?\n"
          ],
          "name": "stdout"
        }
      ]
    },
    {
      "metadata": {
        "id": "lJDQWSLqZ_6-",
        "colab_type": "code",
        "colab": {},
        "outputId": "18954f57-6e3f-4a95-b9e2-d5ea31eb1225"
      },
      "cell_type": "code",
      "source": [
        "print ('2.{0} {1}-{0} {1}'.format(string1,string2))"
      ],
      "execution_count": 0,
      "outputs": [
        {
          "output_type": "stream",
          "text": [
            "2.How are you my friend?-How are you my friend?\n"
          ],
          "name": "stdout"
        }
      ]
    },
    {
      "metadata": {
        "id": "1i6u3cK4Z_7K",
        "colab_type": "code",
        "colab": {},
        "outputId": "90095970-238e-428a-f421-4ef4b8c585ab"
      },
      "cell_type": "code",
      "source": [
        "print ('2.{0} {1}-{1} {0}'.format(string1,string2))"
      ],
      "execution_count": 0,
      "outputs": [
        {
          "output_type": "stream",
          "text": [
            "2.How are you my friend?-are you my friend? How\n"
          ],
          "name": "stdout"
        }
      ]
    },
    {
      "metadata": {
        "id": "9CjbYjHpZ_7X",
        "colab_type": "code",
        "colab": {},
        "outputId": "1ffc95df-c7e5-4321-8abb-00e3a5dd84fe"
      },
      "cell_type": "code",
      "source": [
        "'{0!s} {1}'.format(s1,s2)"
      ],
      "execution_count": 0,
      "outputs": [
        {
          "output_type": "execute_result",
          "data": {
            "text/plain": [
              "'how are you?'"
            ]
          },
          "metadata": {
            "tags": []
          },
          "execution_count": 37
        }
      ]
    },
    {
      "metadata": {
        "id": "mJeNTbQeZ_7m",
        "colab_type": "code",
        "colab": {},
        "outputId": "27c555af-563f-44c0-ef93-e7a88b2c6c64"
      },
      "cell_type": "code",
      "source": [
        "'{0!s} {0!r}'.format(s1,s2)"
      ],
      "execution_count": 0,
      "outputs": [
        {
          "output_type": "execute_result",
          "data": {
            "text/plain": [
              "\"how 'how'\""
            ]
          },
          "metadata": {
            "tags": []
          },
          "execution_count": 38
        }
      ]
    },
    {
      "metadata": {
        "id": "ucbLLasMZ_71",
        "colab_type": "code",
        "colab": {},
        "outputId": "6934fd23-4d6d-425b-8c59-3fc49431477f"
      },
      "cell_type": "code",
      "source": [
        "'{:.5}'.format('hafezahmad')"
      ],
      "execution_count": 0,
      "outputs": [
        {
          "output_type": "execute_result",
          "data": {
            "text/plain": [
              "'hafez'"
            ]
          },
          "metadata": {
            "tags": []
          },
          "execution_count": 44
        }
      ]
    },
    {
      "metadata": {
        "id": "gXNQ_5T3Z_8A",
        "colab_type": "code",
        "colab": {},
        "outputId": "f47275c4-2782-41a7-a097-38fac7660fac"
      },
      "cell_type": "code",
      "source": [
        "'{:10.5}'.format('hafezahmad')"
      ],
      "execution_count": 0,
      "outputs": [
        {
          "output_type": "execute_result",
          "data": {
            "text/plain": [
              "'hafez     '"
            ]
          },
          "metadata": {
            "tags": []
          },
          "execution_count": 45
        }
      ]
    },
    {
      "metadata": {
        "id": "Uqnzi8J9Z_8N",
        "colab_type": "code",
        "colab": {},
        "outputId": "573a2ea4-6f6f-45fc-dded-cefc6377197a"
      },
      "cell_type": "code",
      "source": [
        "#numver string\n",
        "'{:d}'.format(43)"
      ],
      "execution_count": 0,
      "outputs": [
        {
          "output_type": "execute_result",
          "data": {
            "text/plain": [
              "'43'"
            ]
          },
          "metadata": {
            "tags": []
          },
          "execution_count": 47
        }
      ]
    },
    {
      "metadata": {
        "id": "eDNTqfE6Z_8a",
        "colab_type": "code",
        "colab": {},
        "outputId": "1fe0e7e1-62bd-4ec3-9ad5-3cc7ede4b151"
      },
      "cell_type": "code",
      "source": [
        "# floats\n",
        "'{:f}'.format(43)"
      ],
      "execution_count": 0,
      "outputs": [
        {
          "output_type": "execute_result",
          "data": {
            "text/plain": [
              "'43.000000'"
            ]
          },
          "metadata": {
            "tags": []
          },
          "execution_count": 51
        }
      ]
    },
    {
      "metadata": {
        "id": "plI9DMrkZ_8q",
        "colab_type": "code",
        "colab": {},
        "outputId": "c1d24401-0e18-4372-fc32-9fd891230024"
      },
      "cell_type": "code",
      "source": [
        "'{:4d}'.format(43)"
      ],
      "execution_count": 0,
      "outputs": [
        {
          "output_type": "execute_result",
          "data": {
            "text/plain": [
              "'  43'"
            ]
          },
          "metadata": {
            "tags": []
          },
          "execution_count": 54
        }
      ]
    },
    {
      "metadata": {
        "id": "mxONQtn9Z_81",
        "colab_type": "code",
        "colab": {},
        "outputId": "45655be0-6440-49d9-dbe9-d66332200a31"
      },
      "cell_type": "code",
      "source": [
        "'{:06.2f}'.format(43)"
      ],
      "execution_count": 0,
      "outputs": [
        {
          "output_type": "execute_result",
          "data": {
            "text/plain": [
              "'043.00'"
            ]
          },
          "metadata": {
            "tags": []
          },
          "execution_count": 55
        }
      ]
    },
    {
      "metadata": {
        "id": "kCyzZZjPZ_9D",
        "colab_type": "code",
        "colab": {}
      },
      "cell_type": "code",
      "source": [
        "import scipy"
      ],
      "execution_count": 0,
      "outputs": []
    },
    {
      "metadata": {
        "id": "Eg8UF9BYZ_9N",
        "colab_type": "code",
        "colab": {}
      },
      "cell_type": "code",
      "source": [
        "import numpy as np\n",
        "import matplotlib.pyplot as plt\n",
        "from mpl_toolkits.mplot3d.axes3d import Axes3D"
      ],
      "execution_count": 0,
      "outputs": []
    },
    {
      "metadata": {
        "id": "Us1iGItFZ_9b",
        "colab_type": "code",
        "colab": {}
      },
      "cell_type": "code",
      "source": [
        "import pandas as pd"
      ],
      "execution_count": 0,
      "outputs": []
    },
    {
      "metadata": {
        "id": "F3oKOC5PZ_9l",
        "colab_type": "code",
        "colab": {}
      },
      "cell_type": "code",
      "source": [
        "la=np.linspace(1,30,100)\n",
        "lat=np.meshgrid(la)\n",
        "lo=np.linspace(70,100,100)\n",
        "lon=np.meshgrid(lo)"
      ],
      "execution_count": 0,
      "outputs": []
    },
    {
      "metadata": {
        "id": "wA3m1YNcZ_9w",
        "colab_type": "code",
        "colab": {}
      },
      "cell_type": "code",
      "source": [
        "data=pd.read_csv(\"E:/ge/el.csv\")"
      ],
      "execution_count": 0,
      "outputs": []
    },
    {
      "metadata": {
        "id": "CIrKAaNvZ_95",
        "colab_type": "code",
        "colab": {},
        "outputId": "32ccdfa5-7efd-4cfe-bc5a-3dcc217c8c12"
      },
      "cell_type": "code",
      "source": [
        "data.head()"
      ],
      "execution_count": 0,
      "outputs": [
        {
          "output_type": "execute_result",
          "data": {
            "text/html": [
              "<div>\n",
              "<style>\n",
              "    .dataframe thead tr:only-child th {\n",
              "        text-align: right;\n",
              "    }\n",
              "\n",
              "    .dataframe thead th {\n",
              "        text-align: left;\n",
              "    }\n",
              "\n",
              "    .dataframe tbody tr th {\n",
              "        vertical-align: top;\n",
              "    }\n",
              "</style>\n",
              "<table border=\"1\" class=\"dataframe\">\n",
              "  <thead>\n",
              "    <tr style=\"text-align: right;\">\n",
              "      <th></th>\n",
              "      <th>latitude</th>\n",
              "      <th>longitude</th>\n",
              "      <th>altitude (m)</th>\n",
              "    </tr>\n",
              "  </thead>\n",
              "  <tbody>\n",
              "    <tr>\n",
              "      <th>0</th>\n",
              "      <td>26.506769</td>\n",
              "      <td>87.450912</td>\n",
              "      <td>76.2</td>\n",
              "    </tr>\n",
              "    <tr>\n",
              "      <th>1</th>\n",
              "      <td>26.426179</td>\n",
              "      <td>87.461761</td>\n",
              "      <td>64.9</td>\n",
              "    </tr>\n",
              "    <tr>\n",
              "      <th>2</th>\n",
              "      <td>26.305368</td>\n",
              "      <td>87.478017</td>\n",
              "      <td>57.3</td>\n",
              "    </tr>\n",
              "    <tr>\n",
              "      <th>3</th>\n",
              "      <td>25.983902</td>\n",
              "      <td>87.521019</td>\n",
              "      <td>45.3</td>\n",
              "    </tr>\n",
              "    <tr>\n",
              "      <th>4</th>\n",
              "      <td>25.797229</td>\n",
              "      <td>87.545419</td>\n",
              "      <td>40.2</td>\n",
              "    </tr>\n",
              "  </tbody>\n",
              "</table>\n",
              "</div>"
            ],
            "text/plain": [
              "    latitude  longitude  altitude (m)\n",
              "0  26.506769  87.450912          76.2\n",
              "1  26.426179  87.461761          64.9\n",
              "2  26.305368  87.478017          57.3\n",
              "3  25.983902  87.521019          45.3\n",
              "4  25.797229  87.545419          40.2"
            ]
          },
          "metadata": {
            "tags": []
          },
          "execution_count": 10
        }
      ]
    },
    {
      "metadata": {
        "id": "GRBeschvZ_-F",
        "colab_type": "code",
        "colab": {}
      },
      "cell_type": "code",
      "source": [
        "z=data[\"altitude (m)\"]"
      ],
      "execution_count": 0,
      "outputs": []
    },
    {
      "metadata": {
        "id": "eeaIDoexZ_-N",
        "colab_type": "code",
        "colab": {}
      },
      "cell_type": "code",
      "source": [
        "z1=np.array([z])"
      ],
      "execution_count": 0,
      "outputs": []
    },
    {
      "metadata": {
        "id": "F2kyR_LWZ_-W",
        "colab_type": "code",
        "colab": {},
        "outputId": "c34a20b5-fafe-448a-b5f4-400fa3081f9d"
      },
      "cell_type": "code",
      "source": [
        "z1"
      ],
      "execution_count": 0,
      "outputs": [
        {
          "output_type": "execute_result",
          "data": {
            "text/plain": [
              "array([[ 76.2,  64.9,  57.3, ...,   0. ,   0. ,   0. ]])"
            ]
          },
          "metadata": {
            "tags": []
          },
          "execution_count": 16
        }
      ]
    },
    {
      "metadata": {
        "id": "lQXHjpEHZ_-m",
        "colab_type": "code",
        "colab": {},
        "outputId": "ef1cec76-947d-4e75-f7d1-58c234d3adc0"
      },
      "cell_type": "code",
      "source": [
        "z1.ndim"
      ],
      "execution_count": 0,
      "outputs": [
        {
          "output_type": "execute_result",
          "data": {
            "text/plain": [
              "2"
            ]
          },
          "metadata": {
            "tags": []
          },
          "execution_count": 17
        }
      ]
    },
    {
      "metadata": {
        "id": "KUtjPH5iZ__A",
        "colab_type": "code",
        "colab": {}
      },
      "cell_type": "code",
      "source": [
        "z2=np.linspace(1,30,100)\n",
        "z3=np.meshgrid(z2)"
      ],
      "execution_count": 0,
      "outputs": []
    },
    {
      "metadata": {
        "id": "RLA2V6p_Z__I",
        "colab_type": "code",
        "colab": {}
      },
      "cell_type": "code",
      "source": [
        "def f(x, y):\n",
        "    return np.sin(x) + np.sin(y)"
      ],
      "execution_count": 0,
      "outputs": []
    },
    {
      "metadata": {
        "id": "m9X-e5o-Z__R",
        "colab_type": "code",
        "colab": {}
      },
      "cell_type": "code",
      "source": [
        "t = np.linspace(-3, 3, 100)"
      ],
      "execution_count": 0,
      "outputs": []
    },
    {
      "metadata": {
        "id": "T8FzaDwuZ__a",
        "colab_type": "code",
        "colab": {},
        "outputId": "2a54084b-b9ec-4196-e10d-c10ee3fc9174"
      },
      "cell_type": "code",
      "source": [
        "t"
      ],
      "execution_count": 0,
      "outputs": [
        {
          "output_type": "execute_result",
          "data": {
            "text/plain": [
              "array([-3.        , -2.93939394, -2.87878788, -2.81818182, -2.75757576,\n",
              "       -2.6969697 , -2.63636364, -2.57575758, -2.51515152, -2.45454545,\n",
              "       -2.39393939, -2.33333333, -2.27272727, -2.21212121, -2.15151515,\n",
              "       -2.09090909, -2.03030303, -1.96969697, -1.90909091, -1.84848485,\n",
              "       -1.78787879, -1.72727273, -1.66666667, -1.60606061, -1.54545455,\n",
              "       -1.48484848, -1.42424242, -1.36363636, -1.3030303 , -1.24242424,\n",
              "       -1.18181818, -1.12121212, -1.06060606, -1.        , -0.93939394,\n",
              "       -0.87878788, -0.81818182, -0.75757576, -0.6969697 , -0.63636364,\n",
              "       -0.57575758, -0.51515152, -0.45454545, -0.39393939, -0.33333333,\n",
              "       -0.27272727, -0.21212121, -0.15151515, -0.09090909, -0.03030303,\n",
              "        0.03030303,  0.09090909,  0.15151515,  0.21212121,  0.27272727,\n",
              "        0.33333333,  0.39393939,  0.45454545,  0.51515152,  0.57575758,\n",
              "        0.63636364,  0.6969697 ,  0.75757576,  0.81818182,  0.87878788,\n",
              "        0.93939394,  1.        ,  1.06060606,  1.12121212,  1.18181818,\n",
              "        1.24242424,  1.3030303 ,  1.36363636,  1.42424242,  1.48484848,\n",
              "        1.54545455,  1.60606061,  1.66666667,  1.72727273,  1.78787879,\n",
              "        1.84848485,  1.90909091,  1.96969697,  2.03030303,  2.09090909,\n",
              "        2.15151515,  2.21212121,  2.27272727,  2.33333333,  2.39393939,\n",
              "        2.45454545,  2.51515152,  2.57575758,  2.63636364,  2.6969697 ,\n",
              "        2.75757576,  2.81818182,  2.87878788,  2.93939394,  3.        ])"
            ]
          },
          "metadata": {
            "tags": []
          },
          "execution_count": 35
        }
      ]
    },
    {
      "metadata": {
        "id": "8MMDNKwVZ__q",
        "colab_type": "code",
        "colab": {}
      },
      "cell_type": "code",
      "source": [
        "domain = np.meshgrid(t, t)"
      ],
      "execution_count": 0,
      "outputs": []
    },
    {
      "metadata": {
        "id": "s9AGFgKCZ__y",
        "colab_type": "code",
        "colab": {},
        "outputId": "6bb721d2-c7eb-4886-e6be-abdeaae49c3d"
      },
      "cell_type": "code",
      "source": [
        "domain"
      ],
      "execution_count": 0,
      "outputs": [
        {
          "output_type": "execute_result",
          "data": {
            "text/plain": [
              "[array([[-3.        , -2.93939394, -2.87878788, ...,  2.87878788,\n",
              "          2.93939394,  3.        ],\n",
              "        [-3.        , -2.93939394, -2.87878788, ...,  2.87878788,\n",
              "          2.93939394,  3.        ],\n",
              "        [-3.        , -2.93939394, -2.87878788, ...,  2.87878788,\n",
              "          2.93939394,  3.        ],\n",
              "        ..., \n",
              "        [-3.        , -2.93939394, -2.87878788, ...,  2.87878788,\n",
              "          2.93939394,  3.        ],\n",
              "        [-3.        , -2.93939394, -2.87878788, ...,  2.87878788,\n",
              "          2.93939394,  3.        ],\n",
              "        [-3.        , -2.93939394, -2.87878788, ...,  2.87878788,\n",
              "          2.93939394,  3.        ]]),\n",
              " array([[-3.        , -3.        , -3.        , ..., -3.        ,\n",
              "         -3.        , -3.        ],\n",
              "        [-2.93939394, -2.93939394, -2.93939394, ..., -2.93939394,\n",
              "         -2.93939394, -2.93939394],\n",
              "        [-2.87878788, -2.87878788, -2.87878788, ..., -2.87878788,\n",
              "         -2.87878788, -2.87878788],\n",
              "        ..., \n",
              "        [ 2.87878788,  2.87878788,  2.87878788, ...,  2.87878788,\n",
              "          2.87878788,  2.87878788],\n",
              "        [ 2.93939394,  2.93939394,  2.93939394, ...,  2.93939394,\n",
              "          2.93939394,  2.93939394],\n",
              "        [ 3.        ,  3.        ,  3.        , ...,  3.        ,\n",
              "          3.        ,  3.        ]])]"
            ]
          },
          "metadata": {
            "tags": []
          },
          "execution_count": 37
        }
      ]
    },
    {
      "metadata": {
        "id": "FsV_x8-maAAA",
        "colab_type": "code",
        "colab": {}
      },
      "cell_type": "code",
      "source": [
        "X, Y = domain"
      ],
      "execution_count": 0,
      "outputs": []
    },
    {
      "metadata": {
        "id": "0KI87aUxaAAI",
        "colab_type": "code",
        "colab": {}
      },
      "cell_type": "code",
      "source": [
        "Z = f(*domain)"
      ],
      "execution_count": 0,
      "outputs": []
    },
    {
      "metadata": {
        "id": "JgfIbnZ9aAAY",
        "colab_type": "code",
        "colab": {},
        "outputId": "3a4e93a0-e62e-43ca-aeb3-1cc577a2acdb"
      },
      "cell_type": "code",
      "source": [
        "Z"
      ],
      "execution_count": 0,
      "outputs": [
        {
          "output_type": "execute_result",
          "data": {
            "text/plain": [
              "array([[-0.28224002, -0.34194374, -0.40091005, ...,  0.11867004,\n",
              "         0.05970373,  0.        ],\n",
              "       [-0.34194374, -0.40164747, -0.46061378, ...,  0.05896631,\n",
              "         0.        , -0.05970373],\n",
              "       [-0.40091005, -0.46061378, -0.51958009, ...,  0.        ,\n",
              "        -0.05896631, -0.11867004],\n",
              "       ..., \n",
              "       [ 0.11867004,  0.05896631,  0.        , ...,  0.51958009,\n",
              "         0.46061378,  0.40091005],\n",
              "       [ 0.05970373,  0.        , -0.05896631, ...,  0.46061378,\n",
              "         0.40164747,  0.34194374],\n",
              "       [ 0.        , -0.05970373, -0.11867004, ...,  0.40091005,\n",
              "         0.34194374,  0.28224002]])"
            ]
          },
          "metadata": {
            "tags": []
          },
          "execution_count": 43
        }
      ]
    },
    {
      "metadata": {
        "id": "Gri1RDz4aAAj",
        "colab_type": "code",
        "colab": {},
        "outputId": "3c4a8a93-ab7e-4d2c-af9a-5b99f25af1ca"
      },
      "cell_type": "code",
      "source": [
        ""
      ],
      "execution_count": 0,
      "outputs": [
        {
          "output_type": "execute_result",
          "data": {
            "text/plain": [
              "array([[  2.        ,   2.29292929,   2.58585859,   2.87878788,\n",
              "          3.17171717,   3.46464646,   3.75757576,   4.05050505,\n",
              "          4.34343434,   4.63636364,   4.92929293,   5.22222222,\n",
              "          5.51515152,   5.80808081,   6.1010101 ,   6.39393939,\n",
              "          6.68686869,   6.97979798,   7.27272727,   7.56565657,\n",
              "          7.85858586,   8.15151515,   8.44444444,   8.73737374,\n",
              "          9.03030303,   9.32323232,   9.61616162,   9.90909091,\n",
              "         10.2020202 ,  10.49494949,  10.78787879,  11.08080808,\n",
              "         11.37373737,  11.66666667,  11.95959596,  12.25252525,\n",
              "         12.54545455,  12.83838384,  13.13131313,  13.42424242,\n",
              "         13.71717172,  14.01010101,  14.3030303 ,  14.5959596 ,\n",
              "         14.88888889,  15.18181818,  15.47474747,  15.76767677,\n",
              "         16.06060606,  16.35353535,  16.64646465,  16.93939394,\n",
              "         17.23232323,  17.52525253,  17.81818182,  18.11111111,\n",
              "         18.4040404 ,  18.6969697 ,  18.98989899,  19.28282828,\n",
              "         19.57575758,  19.86868687,  20.16161616,  20.45454545,\n",
              "         20.74747475,  21.04040404,  21.33333333,  21.62626263,\n",
              "         21.91919192,  22.21212121,  22.50505051,  22.7979798 ,\n",
              "         23.09090909,  23.38383838,  23.67676768,  23.96969697,\n",
              "         24.26262626,  24.55555556,  24.84848485,  25.14141414,\n",
              "         25.43434343,  25.72727273,  26.02020202,  26.31313131,\n",
              "         26.60606061,  26.8989899 ,  27.19191919,  27.48484848,\n",
              "         27.77777778,  28.07070707,  28.36363636,  28.65656566,\n",
              "         28.94949495,  29.24242424,  29.53535354,  29.82828283,\n",
              "         30.12121212,  30.41414141,  30.70707071,  31.        ]])"
            ]
          },
          "metadata": {
            "tags": []
          },
          "execution_count": 55
        }
      ]
    },
    {
      "metadata": {
        "id": "rIAnPfoJaAAt",
        "colab_type": "code",
        "colab": {},
        "outputId": "219956e2-008c-495b-89f0-117e6f67c618"
      },
      "cell_type": "code",
      "source": [
        "plt.contour(X,Y,Z)\n",
        "plt.show()"
      ],
      "execution_count": 0,
      "outputs": [
        {
          "output_type": "display_data",
          "data": {
            "image/png": "[encoded data removed]",
            "text/plain": [
              "<matplotlib.figure.Figure at 0x7ef7d30>"
            ]
          },
          "metadata": {
            "tags": []
          }
        }
      ]
    },
    {
      "metadata": {
        "id": "7DV-PjlqaAA3",
        "colab_type": "code",
        "colab": {},
        "outputId": "f1e9a52f-c901-429d-eddc-c58e1dc173ca"
      },
      "cell_type": "code",
      "source": [
        "number=int(input('enter number: '))\n",
        "mod=number %2\n",
        "if mod >0:\n",
        "    print ('this is odd')\n",
        "else:\n",
        "    print('even')"
      ],
      "execution_count": 0,
      "outputs": [
        {
          "output_type": "stream",
          "text": [
            "enter number: 7\n",
            "this is odd\n"
          ],
          "name": "stdout"
        }
      ]
    },
    {
      "metadata": {
        "id": "U0be_HQRaABB",
        "colab_type": "code",
        "colab": {},
        "outputId": "dde6fc1a-460d-4ad7-904d-06bc5980126c"
      },
      "cell_type": "code",
      "source": [
        "from math import pi \n",
        "r= float(input(\"pleas enter radius of your circle: \"))\n",
        "print(\"the area of the circle with radius\" + str(r) + \"is: \" + str(pi* r**2))"
      ],
      "execution_count": 0,
      "outputs": [
        {
          "output_type": "stream",
          "text": [
            "pleas enter radius of your circle: 7**2\n",
            "the area of the circle with radius49.0is: 7542.96396127\n"
          ],
          "name": "stdout"
        }
      ]
    },
    {
      "metadata": {
        "id": "Jdu6NgC6aABO",
        "colab_type": "code",
        "colab": {}
      },
      "cell_type": "code",
      "source": [
        "from datetime import date"
      ],
      "execution_count": 0,
      "outputs": []
    },
    {
      "metadata": {
        "id": "lhQEglESaABd",
        "colab_type": "code",
        "colab": {},
        "outputId": "d41fe6b1-78d0-4a18-f9b1-68796b56f796"
      },
      "cell_type": "code",
      "source": [
        "d=date(1997,12,16)\n",
        "d1=date(2018,12,30)\n",
        "d3=d1- d\n",
        "print(d3)"
      ],
      "execution_count": 0,
      "outputs": [
        {
          "output_type": "stream",
          "text": [
            "7684 days, 0:00:00\n"
          ],
          "name": "stdout"
        }
      ]
    },
    {
      "metadata": {
        "id": "VDYaJ0V6aABq",
        "colab_type": "code",
        "colab": {}
      },
      "cell_type": "code",
      "source": [
        "import multiprocessing "
      ],
      "execution_count": 0,
      "outputs": []
    },
    {
      "metadata": {
        "id": "wQiDziRkaAB3",
        "colab_type": "code",
        "colab": {},
        "outputId": "89c10ce9-2ccc-4d9c-9556-29b0476bf02c"
      },
      "cell_type": "code",
      "source": [
        "multiprocessing.cpu_count()"
      ],
      "execution_count": 0,
      "outputs": [
        {
          "output_type": "execute_result",
          "data": {
            "text/plain": [
              "2"
            ]
          },
          "metadata": {
            "tags": []
          },
          "execution_count": 9
        }
      ]
    },
    {
      "metadata": {
        "id": "q5JYYroHaACC",
        "colab_type": "code",
        "colab": {},
        "outputId": "78ee570b-72e6-451f-f66d-a10613c9c4d3"
      },
      "cell_type": "code",
      "source": [
        "print(isinstance(23,str))"
      ],
      "execution_count": 0,
      "outputs": [
        {
          "output_type": "stream",
          "text": [
            "False\n"
          ],
          "name": "stdout"
        }
      ]
    },
    {
      "metadata": {
        "id": "18ZRHY0VaACM",
        "colab_type": "code",
        "colab": {},
        "outputId": "7ed80b3e-add7-4408-f07e-dc2032264e3f"
      },
      "cell_type": "code",
      "source": [
        "print(isinstance(23,int))"
      ],
      "execution_count": 0,
      "outputs": [
        {
          "output_type": "stream",
          "text": [
            "True\n"
          ],
          "name": "stdout"
        }
      ]
    },
    {
      "metadata": {
        "id": "yxbCuoj5aACW",
        "colab_type": "code",
        "colab": {},
        "outputId": "0e1da168-7e01-444f-b2f7-51a54adb5757"
      },
      "cell_type": "code",
      "source": [
        "type(23)"
      ],
      "execution_count": 0,
      "outputs": [
        {
          "output_type": "execute_result",
          "data": {
            "text/plain": [
              "int"
            ]
          },
          "metadata": {
            "tags": []
          },
          "execution_count": 14
        }
      ]
    },
    {
      "metadata": {
        "id": "qpbyJy0daACf",
        "colab_type": "code",
        "colab": {},
        "outputId": "391544eb-0cd9-4bcd-d45e-9bd49acb98a2"
      },
      "cell_type": "code",
      "source": [
        "def dollar(fn):\n",
        "    def new(*args):\n",
        "        return '$' + str(fn(*args))\n",
        "    return new\n",
        "\n",
        "@dollar\n",
        "def price(amount,tax_rate):\n",
        "    return amount + amount * tax_rate\n",
        "print price(240,0.1)"
      ],
      "execution_count": 0,
      "outputs": [
        {
          "output_type": "stream",
          "text": [
            "$264.0\n"
          ],
          "name": "stdout"
        }
      ]
    },
    {
      "metadata": {
        "id": "UBc6Fj40aACs",
        "colab_type": "code",
        "colab": {},
        "outputId": "734df9de-3f7c-47fb-9bdd-4e9defc7433b"
      },
      "cell_type": "code",
      "source": [
        "from time import time\n",
        "def timer(anyf):\n",
        "    def count_time():\n",
        "        start=time()\n",
        "        anyf()\n",
        "        stop=time()\n",
        "        print(stop-start,\"second\")\n",
        "        return\n",
        "    return count_time\n",
        "@timer\n",
        "def hello():\n",
        "    print(\"hello vai\")\n",
        "    return\n",
        "@timer\n",
        "def other():\n",
        "    for item in [1,2,4,5,6]:\n",
        "        print(item)\n",
        "    return\n",
        "hello() \n",
        "other()"
      ],
      "execution_count": 0,
      "outputs": [
        {
          "output_type": "stream",
          "text": [
            "hello vai\n",
            "(0.0, 'second')\n",
            "1\n",
            "2\n",
            "4\n",
            "5\n",
            "6\n",
            "(0.0019998550415039062, 'second')\n"
          ],
          "name": "stdout"
        }
      ]
    },
    {
      "metadata": {
        "id": "EiZOZmZOaAC8",
        "colab_type": "code",
        "colab": {}
      },
      "cell_type": "code",
      "source": [
        "def hhh():\n",
        "    print(\"hhhss\")\n"
      ],
      "execution_count": 0,
      "outputs": []
    },
    {
      "metadata": {
        "id": "6Hhtp4SQaADF",
        "colab_type": "code",
        "colab": {},
        "outputId": "1ea3d2b8-ae3f-46b4-f45a-8e3377c2e364"
      },
      "cell_type": "code",
      "source": [
        "hhh()"
      ],
      "execution_count": 0,
      "outputs": [
        {
          "output_type": "stream",
          "text": [
            "hhhss\n"
          ],
          "name": "stdout"
        }
      ]
    },
    {
      "metadata": {
        "id": "4HcDBplraADQ",
        "colab_type": "code",
        "colab": {}
      },
      "cell_type": "code",
      "source": [
        "hi=hhh"
      ],
      "execution_count": 0,
      "outputs": []
    },
    {
      "metadata": {
        "id": "ECNls9psaADW",
        "colab_type": "code",
        "colab": {},
        "outputId": "3234bbe4-9a2b-4945-8146-c074f36b49da"
      },
      "cell_type": "code",
      "source": [
        "hi"
      ],
      "execution_count": 0,
      "outputs": [
        {
          "output_type": "execute_result",
          "data": {
            "text/plain": [
              "<function __main__.hhh>"
            ]
          },
          "metadata": {
            "tags": []
          },
          "execution_count": 15
        }
      ]
    },
    {
      "metadata": {
        "id": "VJCUylnkaADc",
        "colab_type": "code",
        "colab": {},
        "outputId": "f5b4828d-29a9-456a-eb9a-107e09303149"
      },
      "cell_type": "code",
      "source": [
        "hi()"
      ],
      "execution_count": 0,
      "outputs": [
        {
          "output_type": "stream",
          "text": [
            "hhhss\n"
          ],
          "name": "stdout"
        }
      ]
    },
    {
      "metadata": {
        "id": "xETSM-QXaADk",
        "colab_type": "code",
        "colab": {},
        "outputId": "033b5e4b-ebdc-4ddc-f156-f61bd275b596"
      },
      "cell_type": "code",
      "source": [
        "def hell():\n",
        "    print(\"ok vai\")\n",
        "    def nest():\n",
        "        print(\"inside\")\n",
        "    nest()\n",
        "    print(\"inside again\")\n",
        "hell()"
      ],
      "execution_count": 0,
      "outputs": [
        {
          "output_type": "stream",
          "text": [
            "ok vai\n",
            "inside\n",
            "inside again\n"
          ],
          "name": "stdout"
        }
      ]
    },
    {
      "metadata": {
        "id": "R-G6f1YeaADs",
        "colab_type": "code",
        "colab": {},
        "outputId": "afff473c-5421-4012-a881-b5fa38a5e317"
      },
      "cell_type": "code",
      "source": [
        "def f(x):\n",
        "    return 3*x +1\n",
        "f(2)"
      ],
      "execution_count": 0,
      "outputs": [
        {
          "output_type": "execute_result",
          "data": {
            "text/plain": [
              "7"
            ]
          },
          "metadata": {
            "tags": []
          },
          "execution_count": 1
        }
      ]
    },
    {
      "metadata": {
        "id": "qJ4DrqoCaAD9",
        "colab_type": "code",
        "colab": {},
        "outputId": "237f5266-38f9-4643-e5bc-dd8792988cb5"
      },
      "cell_type": "code",
      "source": [
        "g=lambda x: 3*x +1\n",
        "g(2)"
      ],
      "execution_count": 0,
      "outputs": [
        {
          "output_type": "execute_result",
          "data": {
            "text/plain": [
              "7"
            ]
          },
          "metadata": {
            "tags": []
          },
          "execution_count": 2
        }
      ]
    },
    {
      "metadata": {
        "id": "eXuNNh3TaAEG",
        "colab_type": "code",
        "colab": {},
        "outputId": "6a524a4f-5ee8-446f-a1ad-5fcd75280751"
      },
      "cell_type": "code",
      "source": [
        "fullname=lambda fn,ln: fn.strip().title() + \" \"+ ln.strip().title()\n",
        "fullname(\" hafez\",\"ahmad\")"
      ],
      "execution_count": 0,
      "outputs": [
        {
          "output_type": "execute_result",
          "data": {
            "text/plain": [
              "'Hafez Ahmad'"
            ]
          },
          "metadata": {
            "tags": []
          },
          "execution_count": 4
        }
      ]
    },
    {
      "metadata": {
        "id": "XduqJ4EIaAEQ",
        "colab_type": "code",
        "colab": {},
        "outputId": "b507d51c-4e76-4dc8-9cfb-f4fd394b2ffb"
      },
      "cell_type": "code",
      "source": [
        "def quadratic_func(a,b,c):\n",
        "    return lambda x: a*x**10 + b*x**3 +c + c* x**2\n",
        "f=quadratic_func(2,-3,-4)\n",
        "f(2)"
      ],
      "execution_count": 0,
      "outputs": [
        {
          "output_type": "execute_result",
          "data": {
            "text/plain": [
              "2004"
            ]
          },
          "metadata": {
            "tags": []
          },
          "execution_count": 7
        }
      ]
    },
    {
      "metadata": {
        "id": "gsrBheXYaAEc",
        "colab_type": "code",
        "colab": {},
        "outputId": "7642fb5b-8c84-4bd7-e1e9-5ed1db5bb6bd"
      },
      "cell_type": "code",
      "source": [
        "import math\n",
        "def area(r):\n",
        "    return math.pi * (r**2)\n",
        "radii=[2,3,4,5,6,7]\n",
        "areas=[]\n",
        "for r in radii:\n",
        "    a=area(r)\n",
        "    areas.append(a)\n",
        "areas"
      ],
      "execution_count": 0,
      "outputs": [
        {
          "output_type": "execute_result",
          "data": {
            "text/plain": [
              "[12.566370614359172,\n",
              " 28.274333882308138,\n",
              " 50.26548245743669,\n",
              " 78.53981633974483,\n",
              " 113.09733552923255,\n",
              " 153.93804002589985]"
            ]
          },
          "metadata": {
            "tags": []
          },
          "execution_count": 11
        }
      ]
    },
    {
      "metadata": {
        "id": "GYUCLSfnaAEp",
        "colab_type": "code",
        "colab": {},
        "outputId": "f4ec9eb8-68ea-4b35-fe44-582c3b58b85f"
      },
      "cell_type": "code",
      "source": [
        "map(area,radii)"
      ],
      "execution_count": 0,
      "outputs": [
        {
          "output_type": "execute_result",
          "data": {
            "text/plain": [
              "[12.566370614359172,\n",
              " 28.274333882308138,\n",
              " 50.26548245743669,\n",
              " 78.53981633974483,\n",
              " 113.09733552923255,\n",
              " 153.93804002589985]"
            ]
          },
          "metadata": {
            "tags": []
          },
          "execution_count": 12
        }
      ]
    },
    {
      "metadata": {
        "id": "abuBVcOsaAEz",
        "colab_type": "code",
        "colab": {},
        "outputId": "5c983249-1588-44a9-be2e-b2baa322e636"
      },
      "cell_type": "code",
      "source": [
        "temp=[(\"dhaka\",30),(\"chitagong\",26),(\"sylhet\",17)]\n",
        "c_to_f=lambda data: (data[0],(9/5)*data[1]+32)\n",
        "map(c_to_f,temp)"
      ],
      "execution_count": 0,
      "outputs": [
        {
          "output_type": "execute_result",
          "data": {
            "text/plain": [
              "[('dhaka', 62), ('chitagong', 58), ('sylhet', 49)]"
            ]
          },
          "metadata": {
            "tags": []
          },
          "execution_count": 13
        }
      ]
    },
    {
      "metadata": {
        "id": "TiaqzAqOaAFF",
        "colab_type": "code",
        "colab": {}
      },
      "cell_type": "code",
      "source": [
        "import numpy as np"
      ],
      "execution_count": 0,
      "outputs": []
    },
    {
      "metadata": {
        "id": "GrH_DqNAaAFL",
        "colab_type": "code",
        "colab": {},
        "outputId": "8eeffa67-12a1-4d97-f88c-c97cbdd55b97"
      },
      "cell_type": "code",
      "source": [
        "data=[1,2,4,4,56,43]\n",
        "avg=np.mean(data)\n",
        "print(avg)\n",
        "filter(lambda x: x>avg ,data)"
      ],
      "execution_count": 0,
      "outputs": [
        {
          "output_type": "stream",
          "text": [
            "18.3333333333\n"
          ],
          "name": "stdout"
        },
        {
          "output_type": "execute_result",
          "data": {
            "text/plain": [
              "[56, 43]"
            ]
          },
          "metadata": {
            "tags": []
          },
          "execution_count": 18
        }
      ]
    },
    {
      "metadata": {
        "id": "OJ0BbtUaaAFZ",
        "colab_type": "code",
        "colab": {},
        "outputId": "2d0fbc1d-bb58-4549-b258-b71af5bfc887"
      },
      "cell_type": "code",
      "source": [
        "countries=[\"\",\"bangladesh\",\"\",\"usa\",\"uk\",\"\"]\n",
        "filter(None,countries)"
      ],
      "execution_count": 0,
      "outputs": [
        {
          "output_type": "execute_result",
          "data": {
            "text/plain": [
              "['bangladesh', 'usa', 'uk']"
            ]
          },
          "metadata": {
            "tags": []
          },
          "execution_count": 19
        }
      ]
    },
    {
      "metadata": {
        "id": "yLTv0vl5aAFx",
        "colab_type": "code",
        "colab": {}
      },
      "cell_type": "code",
      "source": [
        ""
      ],
      "execution_count": 0,
      "outputs": []
    }
  ]
}